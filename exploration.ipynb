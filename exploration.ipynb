{
 "cells": [
  {
   "cell_type": "markdown",
   "metadata": {},
   "source": [
    "# Eploration des données"
   ]
  },
  {
   "cell_type": "code",
   "execution_count": 4,
   "metadata": {},
   "outputs": [],
   "source": [
    "# importation des packages nécessaires à l'exploration\n",
    "import pandas as pd\n",
    "import numpy as np\n",
    "from pandas_profiling import ProfileReport"
   ]
  },
  {
   "cell_type": "code",
   "execution_count": 5,
   "metadata": {},
   "outputs": [],
   "source": [
    "# attribution des fichiers csv à des variables\n",
    "population = pd.read_csv('raw_datas/Population.csv')\n",
    "region_country = pd.read_csv('raw_datas/RegionCountry.csv')\n",
    "political_stability = pd.read_csv('raw_datas/PoliticalStability.csv')\n",
    "mortality = pd.read_csv('raw_datas/MortalityRateAttributedToWater.csv')\n",
    "drinking_water_service = pd.read_csv('raw_datas/BasicAndSafelyManagedDrinkingWaterServices.csv')"
   ]
  },
  {
   "cell_type": "markdown",
   "metadata": {},
   "source": [
    "### Le fichier 'Population.csv'"
   ]
  },
  {
   "cell_type": "code",
   "execution_count": 6,
   "metadata": {},
   "outputs": [
    {
     "data": {
      "text/html": [
       "<div>\n",
       "<style scoped>\n",
       "    .dataframe tbody tr th:only-of-type {\n",
       "        vertical-align: middle;\n",
       "    }\n",
       "\n",
       "    .dataframe tbody tr th {\n",
       "        vertical-align: top;\n",
       "    }\n",
       "\n",
       "    .dataframe thead th {\n",
       "        text-align: right;\n",
       "    }\n",
       "</style>\n",
       "<table border=\"1\" class=\"dataframe\">\n",
       "  <thead>\n",
       "    <tr style=\"text-align: right;\">\n",
       "      <th></th>\n",
       "      <th>Country</th>\n",
       "      <th>Granularity</th>\n",
       "      <th>Year</th>\n",
       "      <th>Population</th>\n",
       "    </tr>\n",
       "  </thead>\n",
       "  <tbody>\n",
       "    <tr>\n",
       "      <th>0</th>\n",
       "      <td>Afghanistan</td>\n",
       "      <td>Total</td>\n",
       "      <td>2000</td>\n",
       "      <td>20779.953</td>\n",
       "    </tr>\n",
       "    <tr>\n",
       "      <th>1</th>\n",
       "      <td>Afghanistan</td>\n",
       "      <td>Male</td>\n",
       "      <td>2000</td>\n",
       "      <td>10689.508</td>\n",
       "    </tr>\n",
       "    <tr>\n",
       "      <th>2</th>\n",
       "      <td>Afghanistan</td>\n",
       "      <td>Female</td>\n",
       "      <td>2000</td>\n",
       "      <td>10090.449</td>\n",
       "    </tr>\n",
       "    <tr>\n",
       "      <th>3</th>\n",
       "      <td>Afghanistan</td>\n",
       "      <td>Rural</td>\n",
       "      <td>2000</td>\n",
       "      <td>15657.474</td>\n",
       "    </tr>\n",
       "    <tr>\n",
       "      <th>4</th>\n",
       "      <td>Afghanistan</td>\n",
       "      <td>Urban</td>\n",
       "      <td>2000</td>\n",
       "      <td>4436.282</td>\n",
       "    </tr>\n",
       "    <tr>\n",
       "      <th>5</th>\n",
       "      <td>Afghanistan</td>\n",
       "      <td>Total</td>\n",
       "      <td>2001</td>\n",
       "      <td>21606.988</td>\n",
       "    </tr>\n",
       "    <tr>\n",
       "      <th>6</th>\n",
       "      <td>Afghanistan</td>\n",
       "      <td>Male</td>\n",
       "      <td>2001</td>\n",
       "      <td>11117.754</td>\n",
       "    </tr>\n",
       "    <tr>\n",
       "      <th>7</th>\n",
       "      <td>Afghanistan</td>\n",
       "      <td>Female</td>\n",
       "      <td>2001</td>\n",
       "      <td>10489.238</td>\n",
       "    </tr>\n",
       "    <tr>\n",
       "      <th>8</th>\n",
       "      <td>Afghanistan</td>\n",
       "      <td>Rural</td>\n",
       "      <td>2001</td>\n",
       "      <td>16318.324</td>\n",
       "    </tr>\n",
       "    <tr>\n",
       "      <th>9</th>\n",
       "      <td>Afghanistan</td>\n",
       "      <td>Urban</td>\n",
       "      <td>2001</td>\n",
       "      <td>4648.139</td>\n",
       "    </tr>\n",
       "  </tbody>\n",
       "</table>\n",
       "</div>"
      ],
      "text/plain": [
       "       Country Granularity  Year  Population\n",
       "0  Afghanistan       Total  2000   20779.953\n",
       "1  Afghanistan        Male  2000   10689.508\n",
       "2  Afghanistan      Female  2000   10090.449\n",
       "3  Afghanistan       Rural  2000   15657.474\n",
       "4  Afghanistan       Urban  2000    4436.282\n",
       "5  Afghanistan       Total  2001   21606.988\n",
       "6  Afghanistan        Male  2001   11117.754\n",
       "7  Afghanistan      Female  2001   10489.238\n",
       "8  Afghanistan       Rural  2001   16318.324\n",
       "9  Afghanistan       Urban  2001    4648.139"
      ]
     },
     "execution_count": 6,
     "metadata": {},
     "output_type": "execute_result"
    }
   ],
   "source": [
    "# affichage des premières lignes de la table 'population'\n",
    "population.head(10)"
   ]
  },
  {
   "cell_type": "markdown",
   "metadata": {},
   "source": [
    "Dans ce dataframe on va retrouver la population de chaque pays par année. On peut retrouver ces informations par sexe, par environnement (urbain ou rural), puis au total."
   ]
  },
  {
   "cell_type": "code",
   "execution_count": 7,
   "metadata": {},
   "outputs": [
    {
     "data": {
      "text/plain": [
       "(20914, 4)"
      ]
     },
     "execution_count": 7,
     "metadata": {},
     "output_type": "execute_result"
    }
   ],
   "source": [
    "# affichage des dimensions de la table population\n",
    "population.shape"
   ]
  },
  {
   "cell_type": "code",
   "execution_count": 8,
   "metadata": {},
   "outputs": [
    {
     "data": {
      "text/html": [
       "<div>\n",
       "<style scoped>\n",
       "    .dataframe tbody tr th:only-of-type {\n",
       "        vertical-align: middle;\n",
       "    }\n",
       "\n",
       "    .dataframe tbody tr th {\n",
       "        vertical-align: top;\n",
       "    }\n",
       "\n",
       "    .dataframe thead th {\n",
       "        text-align: right;\n",
       "    }\n",
       "</style>\n",
       "<table border=\"1\" class=\"dataframe\">\n",
       "  <thead>\n",
       "    <tr style=\"text-align: right;\">\n",
       "      <th></th>\n",
       "      <th>Country</th>\n",
       "      <th>Granularity</th>\n",
       "      <th>Year</th>\n",
       "      <th>Population</th>\n",
       "    </tr>\n",
       "  </thead>\n",
       "  <tbody>\n",
       "    <tr>\n",
       "      <th>count</th>\n",
       "      <td>20914</td>\n",
       "      <td>20914</td>\n",
       "      <td>20914.000000</td>\n",
       "      <td>2.091400e+04</td>\n",
       "    </tr>\n",
       "    <tr>\n",
       "      <th>unique</th>\n",
       "      <td>239</td>\n",
       "      <td>5</td>\n",
       "      <td>NaN</td>\n",
       "      <td>NaN</td>\n",
       "    </tr>\n",
       "    <tr>\n",
       "      <th>top</th>\n",
       "      <td>Afghanistan</td>\n",
       "      <td>Total</td>\n",
       "      <td>NaN</td>\n",
       "      <td>NaN</td>\n",
       "    </tr>\n",
       "    <tr>\n",
       "      <th>freq</th>\n",
       "      <td>95</td>\n",
       "      <td>4430</td>\n",
       "      <td>NaN</td>\n",
       "      <td>NaN</td>\n",
       "    </tr>\n",
       "    <tr>\n",
       "      <th>mean</th>\n",
       "      <td>NaN</td>\n",
       "      <td>NaN</td>\n",
       "      <td>2009.046715</td>\n",
       "      <td>2.253164e+04</td>\n",
       "    </tr>\n",
       "    <tr>\n",
       "      <th>std</th>\n",
       "      <td>NaN</td>\n",
       "      <td>NaN</td>\n",
       "      <td>5.479195</td>\n",
       "      <td>1.000169e+05</td>\n",
       "    </tr>\n",
       "    <tr>\n",
       "      <th>min</th>\n",
       "      <td>NaN</td>\n",
       "      <td>NaN</td>\n",
       "      <td>2000.000000</td>\n",
       "      <td>0.000000e+00</td>\n",
       "    </tr>\n",
       "    <tr>\n",
       "      <th>25%</th>\n",
       "      <td>NaN</td>\n",
       "      <td>NaN</td>\n",
       "      <td>2004.000000</td>\n",
       "      <td>3.483462e+02</td>\n",
       "    </tr>\n",
       "    <tr>\n",
       "      <th>50%</th>\n",
       "      <td>NaN</td>\n",
       "      <td>NaN</td>\n",
       "      <td>2009.000000</td>\n",
       "      <td>3.016337e+03</td>\n",
       "    </tr>\n",
       "    <tr>\n",
       "      <th>75%</th>\n",
       "      <td>NaN</td>\n",
       "      <td>NaN</td>\n",
       "      <td>2014.000000</td>\n",
       "      <td>1.115043e+04</td>\n",
       "    </tr>\n",
       "    <tr>\n",
       "      <th>max</th>\n",
       "      <td>NaN</td>\n",
       "      <td>NaN</td>\n",
       "      <td>2018.000000</td>\n",
       "      <td>1.459378e+06</td>\n",
       "    </tr>\n",
       "  </tbody>\n",
       "</table>\n",
       "</div>"
      ],
      "text/plain": [
       "            Country Granularity          Year    Population\n",
       "count         20914       20914  20914.000000  2.091400e+04\n",
       "unique          239           5           NaN           NaN\n",
       "top     Afghanistan       Total           NaN           NaN\n",
       "freq             95        4430           NaN           NaN\n",
       "mean            NaN         NaN   2009.046715  2.253164e+04\n",
       "std             NaN         NaN      5.479195  1.000169e+05\n",
       "min             NaN         NaN   2000.000000  0.000000e+00\n",
       "25%             NaN         NaN   2004.000000  3.483462e+02\n",
       "50%             NaN         NaN   2009.000000  3.016337e+03\n",
       "75%             NaN         NaN   2014.000000  1.115043e+04\n",
       "max             NaN         NaN   2018.000000  1.459378e+06"
      ]
     },
     "execution_count": 8,
     "metadata": {},
     "output_type": "execute_result"
    }
   ],
   "source": [
    "# affichage des détails de la table population\n",
    "population.describe(include='all')"
   ]
  },
  {
   "cell_type": "code",
   "execution_count": 9,
   "metadata": {},
   "outputs": [
    {
     "data": {
      "text/plain": [
       "Country         object\n",
       "Granularity     object\n",
       "Year             int64\n",
       "Population     float64\n",
       "dtype: object"
      ]
     },
     "execution_count": 9,
     "metadata": {},
     "output_type": "execute_result"
    }
   ],
   "source": [
    "population.dtypes"
   ]
  },
  {
   "cell_type": "markdown",
   "metadata": {},
   "source": [
    "Ici on voit que l'on n'a pas de valeurs nulles (autant de valeurs dans chaques colonnes), on voit également que les années vont de 2000 à 2018, que l'on retrouve des informations sur 239 pays. On voit cependant que dans la colonnes population on a des valeurs à 0. On peut aller regarder cela de plus près"
   ]
  },
  {
   "cell_type": "code",
   "execution_count": 10,
   "metadata": {},
   "outputs": [
    {
     "data": {
      "text/plain": [
       "(253, 4)"
      ]
     },
     "execution_count": 10,
     "metadata": {},
     "output_type": "execute_result"
    }
   ],
   "source": [
    "# ici nous créons la variable population_0 qui regroupe les information de population\n",
    "# pour les pays pour lesquels une donnée de population est à 0\n",
    "population_0 = population.loc[population['Population'] == 0].copy()\n",
    "population_0.shape"
   ]
  },
  {
   "cell_type": "markdown",
   "metadata": {},
   "source": [
    "Sur les 20.914 lignes de notre table, on a 253 lignes avec une population à 0"
   ]
  },
  {
   "cell_type": "code",
   "execution_count": 11,
   "metadata": {},
   "outputs": [
    {
     "data": {
      "text/html": [
       "<div>\n",
       "<style scoped>\n",
       "    .dataframe tbody tr th:only-of-type {\n",
       "        vertical-align: middle;\n",
       "    }\n",
       "\n",
       "    .dataframe tbody tr th {\n",
       "        vertical-align: top;\n",
       "    }\n",
       "\n",
       "    .dataframe thead th {\n",
       "        text-align: right;\n",
       "    }\n",
       "</style>\n",
       "<table border=\"1\" class=\"dataframe\">\n",
       "  <thead>\n",
       "    <tr style=\"text-align: right;\">\n",
       "      <th></th>\n",
       "      <th>Country</th>\n",
       "      <th>Granularity</th>\n",
       "      <th>Year</th>\n",
       "      <th>Population</th>\n",
       "    </tr>\n",
       "  </thead>\n",
       "  <tbody>\n",
       "    <tr>\n",
       "      <th>count</th>\n",
       "      <td>253</td>\n",
       "      <td>253</td>\n",
       "      <td>253.000000</td>\n",
       "      <td>253.0</td>\n",
       "    </tr>\n",
       "    <tr>\n",
       "      <th>unique</th>\n",
       "      <td>14</td>\n",
       "      <td>2</td>\n",
       "      <td>NaN</td>\n",
       "      <td>NaN</td>\n",
       "    </tr>\n",
       "    <tr>\n",
       "      <th>top</th>\n",
       "      <td>Anguilla</td>\n",
       "      <td>Rural</td>\n",
       "      <td>NaN</td>\n",
       "      <td>NaN</td>\n",
       "    </tr>\n",
       "    <tr>\n",
       "      <th>freq</th>\n",
       "      <td>19</td>\n",
       "      <td>215</td>\n",
       "      <td>NaN</td>\n",
       "      <td>NaN</td>\n",
       "    </tr>\n",
       "    <tr>\n",
       "      <th>mean</th>\n",
       "      <td>NaN</td>\n",
       "      <td>NaN</td>\n",
       "      <td>2009.241107</td>\n",
       "      <td>0.0</td>\n",
       "    </tr>\n",
       "    <tr>\n",
       "      <th>std</th>\n",
       "      <td>NaN</td>\n",
       "      <td>NaN</td>\n",
       "      <td>5.467905</td>\n",
       "      <td>0.0</td>\n",
       "    </tr>\n",
       "    <tr>\n",
       "      <th>min</th>\n",
       "      <td>NaN</td>\n",
       "      <td>NaN</td>\n",
       "      <td>2000.000000</td>\n",
       "      <td>0.0</td>\n",
       "    </tr>\n",
       "    <tr>\n",
       "      <th>25%</th>\n",
       "      <td>NaN</td>\n",
       "      <td>NaN</td>\n",
       "      <td>2005.000000</td>\n",
       "      <td>0.0</td>\n",
       "    </tr>\n",
       "    <tr>\n",
       "      <th>50%</th>\n",
       "      <td>NaN</td>\n",
       "      <td>NaN</td>\n",
       "      <td>2009.000000</td>\n",
       "      <td>0.0</td>\n",
       "    </tr>\n",
       "    <tr>\n",
       "      <th>75%</th>\n",
       "      <td>NaN</td>\n",
       "      <td>NaN</td>\n",
       "      <td>2014.000000</td>\n",
       "      <td>0.0</td>\n",
       "    </tr>\n",
       "    <tr>\n",
       "      <th>max</th>\n",
       "      <td>NaN</td>\n",
       "      <td>NaN</td>\n",
       "      <td>2018.000000</td>\n",
       "      <td>0.0</td>\n",
       "    </tr>\n",
       "  </tbody>\n",
       "</table>\n",
       "</div>"
      ],
      "text/plain": [
       "         Country Granularity         Year  Population\n",
       "count        253         253   253.000000       253.0\n",
       "unique        14           2          NaN         NaN\n",
       "top     Anguilla       Rural          NaN         NaN\n",
       "freq          19         215          NaN         NaN\n",
       "mean         NaN         NaN  2009.241107         0.0\n",
       "std          NaN         NaN     5.467905         0.0\n",
       "min          NaN         NaN  2000.000000         0.0\n",
       "25%          NaN         NaN  2005.000000         0.0\n",
       "50%          NaN         NaN  2009.000000         0.0\n",
       "75%          NaN         NaN  2014.000000         0.0\n",
       "max          NaN         NaN  2018.000000         0.0"
      ]
     },
     "execution_count": 11,
     "metadata": {},
     "output_type": "execute_result"
    }
   ],
   "source": [
    "population_0.describe(include='all')"
   ]
  },
  {
   "cell_type": "markdown",
   "metadata": {},
   "source": [
    "Ici on voit que 14 pays sont concernés, et que seuls 2 niveaux de granularité sont concernés. "
   ]
  },
  {
   "cell_type": "code",
   "execution_count": 12,
   "metadata": {},
   "outputs": [
    {
     "data": {
      "text/plain": [
       "['Anguilla',\n",
       " 'Bermuda',\n",
       " 'Cayman Islands',\n",
       " 'China, Hong Kong SAR',\n",
       " 'China, Macao SAR',\n",
       " 'Gibraltar',\n",
       " 'Holy See',\n",
       " 'Kuwait',\n",
       " 'Monaco',\n",
       " 'Nauru',\n",
       " 'Singapore',\n",
       " 'Sint Maarten  (Dutch part)',\n",
       " 'Tokelau',\n",
       " 'Wallis and Futuna Islands']"
      ]
     },
     "execution_count": 12,
     "metadata": {},
     "output_type": "execute_result"
    }
   ],
   "source": [
    "# affichage de la liste des pays concernés\n",
    "population_0['Country'].unique().tolist()"
   ]
  },
  {
   "cell_type": "code",
   "execution_count": 13,
   "metadata": {},
   "outputs": [
    {
     "data": {
      "text/plain": [
       "['Rural', 'Urban']"
      ]
     },
     "execution_count": 13,
     "metadata": {},
     "output_type": "execute_result"
    }
   ],
   "source": [
    "# affichage de la liste des niveaux de granularité concernés\n",
    "population_0['Granularity'].unique().tolist()"
   ]
  },
  {
   "cell_type": "markdown",
   "metadata": {},
   "source": [
    "Il est intéressant de remarquer que seuls les niveaux de granularité 'Rural' et 'Urban' sont concernés. Nous avons donc à disposition les donées de population totales et par sexe."
   ]
  },
  {
   "cell_type": "code",
   "execution_count": 14,
   "metadata": {},
   "outputs": [
    {
     "data": {
      "text/html": [
       "<div>\n",
       "<style scoped>\n",
       "    .dataframe tbody tr th:only-of-type {\n",
       "        vertical-align: middle;\n",
       "    }\n",
       "\n",
       "    .dataframe tbody tr th {\n",
       "        vertical-align: top;\n",
       "    }\n",
       "\n",
       "    .dataframe thead th {\n",
       "        text-align: right;\n",
       "    }\n",
       "</style>\n",
       "<table border=\"1\" class=\"dataframe\">\n",
       "  <thead>\n",
       "    <tr style=\"text-align: right;\">\n",
       "      <th></th>\n",
       "      <th>Country</th>\n",
       "      <th>Granularity</th>\n",
       "      <th>Year</th>\n",
       "      <th>Population</th>\n",
       "    </tr>\n",
       "  </thead>\n",
       "  <tbody>\n",
       "    <tr>\n",
       "      <th>10215</th>\n",
       "      <td>Kuwait</td>\n",
       "      <td>Rural</td>\n",
       "      <td>2008</td>\n",
       "      <td>0.0</td>\n",
       "    </tr>\n",
       "    <tr>\n",
       "      <th>8569</th>\n",
       "      <td>Holy See</td>\n",
       "      <td>Rural</td>\n",
       "      <td>2010</td>\n",
       "      <td>0.0</td>\n",
       "    </tr>\n",
       "    <tr>\n",
       "      <th>3954</th>\n",
       "      <td>China, Hong Kong SAR</td>\n",
       "      <td>Rural</td>\n",
       "      <td>2014</td>\n",
       "      <td>0.0</td>\n",
       "    </tr>\n",
       "    <tr>\n",
       "      <th>7597</th>\n",
       "      <td>Gibraltar</td>\n",
       "      <td>Rural</td>\n",
       "      <td>2009</td>\n",
       "      <td>0.0</td>\n",
       "    </tr>\n",
       "    <tr>\n",
       "      <th>10250</th>\n",
       "      <td>Kuwait</td>\n",
       "      <td>Rural</td>\n",
       "      <td>2015</td>\n",
       "      <td>0.0</td>\n",
       "    </tr>\n",
       "  </tbody>\n",
       "</table>\n",
       "</div>"
      ],
      "text/plain": [
       "                    Country Granularity  Year  Population\n",
       "10215                Kuwait       Rural  2008         0.0\n",
       "8569               Holy See       Rural  2010         0.0\n",
       "3954   China, Hong Kong SAR       Rural  2014         0.0\n",
       "7597              Gibraltar       Rural  2009         0.0\n",
       "10250                Kuwait       Rural  2015         0.0"
      ]
     },
     "execution_count": 14,
     "metadata": {},
     "output_type": "execute_result"
    }
   ],
   "source": [
    "# affichage d'un échantillon de la table population_0\n",
    "population_0.sample(5)"
   ]
  },
  {
   "cell_type": "markdown",
   "metadata": {},
   "source": [
    "La question est de savoir s'il s'agit de valeurs manquantes ou non. En effet, si le pays en question n'est composé que de zones urbaines, il est normal qu'aucun habitant ne se trouve en zone rurale. Regardons cela de plus près."
   ]
  },
  {
   "cell_type": "code",
   "execution_count": 15,
   "metadata": {},
   "outputs": [
    {
     "data": {
      "text/html": [
       "<div>\n",
       "<style scoped>\n",
       "    .dataframe tbody tr th:only-of-type {\n",
       "        vertical-align: middle;\n",
       "    }\n",
       "\n",
       "    .dataframe tbody tr th {\n",
       "        vertical-align: top;\n",
       "    }\n",
       "\n",
       "    .dataframe thead th {\n",
       "        text-align: right;\n",
       "    }\n",
       "</style>\n",
       "<table border=\"1\" class=\"dataframe\">\n",
       "  <thead>\n",
       "    <tr style=\"text-align: right;\">\n",
       "      <th></th>\n",
       "      <th>Country</th>\n",
       "      <th>Granularity</th>\n",
       "      <th>Year</th>\n",
       "      <th>Population</th>\n",
       "    </tr>\n",
       "  </thead>\n",
       "  <tbody>\n",
       "    <tr>\n",
       "      <th>7584</th>\n",
       "      <td>Gibraltar</td>\n",
       "      <td>Total</td>\n",
       "      <td>2005</td>\n",
       "      <td>33.219</td>\n",
       "    </tr>\n",
       "    <tr>\n",
       "      <th>7585</th>\n",
       "      <td>Gibraltar</td>\n",
       "      <td>Rural</td>\n",
       "      <td>2005</td>\n",
       "      <td>0.000</td>\n",
       "    </tr>\n",
       "    <tr>\n",
       "      <th>7586</th>\n",
       "      <td>Gibraltar</td>\n",
       "      <td>Urban</td>\n",
       "      <td>2005</td>\n",
       "      <td>32.085</td>\n",
       "    </tr>\n",
       "  </tbody>\n",
       "</table>\n",
       "</div>"
      ],
      "text/plain": [
       "        Country Granularity  Year  Population\n",
       "7584  Gibraltar       Total  2005      33.219\n",
       "7585  Gibraltar       Rural  2005       0.000\n",
       "7586  Gibraltar       Urban  2005      32.085"
      ]
     },
     "execution_count": 15,
     "metadata": {},
     "output_type": "execute_result"
    }
   ],
   "source": [
    "# nous affichons les données de population de gibraltar pour l'année 2005\n",
    "population.loc[(population['Country'] == 'Gibraltar') & (population['Year'] == 2005)]"
   ]
  },
  {
   "cell_type": "markdown",
   "metadata": {},
   "source": [
    "A première vue, pour le cas de Gibraltar, nous avons bien une population urbaine qui représente à peu de choses près la population totale du pays. Nous pouvons également réaliser une boucle afin de voir les résultats pour les différents pays pour lesquels il nous manque des donées de population."
   ]
  },
  {
   "cell_type": "code",
   "execution_count": 16,
   "metadata": {},
   "outputs": [
    {
     "data": {
      "text/html": [
       "<div>\n",
       "<style scoped>\n",
       "    .dataframe tbody tr th:only-of-type {\n",
       "        vertical-align: middle;\n",
       "    }\n",
       "\n",
       "    .dataframe tbody tr th {\n",
       "        vertical-align: top;\n",
       "    }\n",
       "\n",
       "    .dataframe thead th {\n",
       "        text-align: right;\n",
       "    }\n",
       "</style>\n",
       "<table border=\"1\" class=\"dataframe\">\n",
       "  <thead>\n",
       "    <tr style=\"text-align: right;\">\n",
       "      <th></th>\n",
       "      <th>Country</th>\n",
       "      <th>Granularity</th>\n",
       "      <th>Year</th>\n",
       "      <th>Population</th>\n",
       "    </tr>\n",
       "  </thead>\n",
       "  <tbody>\n",
       "    <tr>\n",
       "      <th>509</th>\n",
       "      <td>Anguilla</td>\n",
       "      <td>Total</td>\n",
       "      <td>2005</td>\n",
       "      <td>12.453</td>\n",
       "    </tr>\n",
       "    <tr>\n",
       "      <th>510</th>\n",
       "      <td>Anguilla</td>\n",
       "      <td>Rural</td>\n",
       "      <td>2005</td>\n",
       "      <td>0.000</td>\n",
       "    </tr>\n",
       "    <tr>\n",
       "      <th>511</th>\n",
       "      <td>Anguilla</td>\n",
       "      <td>Urban</td>\n",
       "      <td>2005</td>\n",
       "      <td>12.638</td>\n",
       "    </tr>\n",
       "  </tbody>\n",
       "</table>\n",
       "</div>"
      ],
      "text/plain": [
       "      Country Granularity  Year  Population\n",
       "509  Anguilla       Total  2005      12.453\n",
       "510  Anguilla       Rural  2005       0.000\n",
       "511  Anguilla       Urban  2005      12.638"
      ]
     },
     "metadata": {},
     "output_type": "display_data"
    },
    {
     "name": "stdout",
     "output_type": "stream",
     "text": [
      " \n"
     ]
    },
    {
     "data": {
      "text/html": [
       "<div>\n",
       "<style scoped>\n",
       "    .dataframe tbody tr th:only-of-type {\n",
       "        vertical-align: middle;\n",
       "    }\n",
       "\n",
       "    .dataframe tbody tr th {\n",
       "        vertical-align: top;\n",
       "    }\n",
       "\n",
       "    .dataframe thead th {\n",
       "        text-align: right;\n",
       "    }\n",
       "</style>\n",
       "<table border=\"1\" class=\"dataframe\">\n",
       "  <thead>\n",
       "    <tr style=\"text-align: right;\">\n",
       "      <th></th>\n",
       "      <th>Country</th>\n",
       "      <th>Granularity</th>\n",
       "      <th>Year</th>\n",
       "      <th>Population</th>\n",
       "    </tr>\n",
       "  </thead>\n",
       "  <tbody>\n",
       "    <tr>\n",
       "      <th>1991</th>\n",
       "      <td>Bermuda</td>\n",
       "      <td>Total</td>\n",
       "      <td>2005</td>\n",
       "      <td>66.257</td>\n",
       "    </tr>\n",
       "    <tr>\n",
       "      <th>1992</th>\n",
       "      <td>Bermuda</td>\n",
       "      <td>Rural</td>\n",
       "      <td>2005</td>\n",
       "      <td>0.000</td>\n",
       "    </tr>\n",
       "    <tr>\n",
       "      <th>1993</th>\n",
       "      <td>Bermuda</td>\n",
       "      <td>Urban</td>\n",
       "      <td>2005</td>\n",
       "      <td>65.130</td>\n",
       "    </tr>\n",
       "  </tbody>\n",
       "</table>\n",
       "</div>"
      ],
      "text/plain": [
       "      Country Granularity  Year  Population\n",
       "1991  Bermuda       Total  2005      66.257\n",
       "1992  Bermuda       Rural  2005       0.000\n",
       "1993  Bermuda       Urban  2005      65.130"
      ]
     },
     "metadata": {},
     "output_type": "display_data"
    },
    {
     "name": "stdout",
     "output_type": "stream",
     "text": [
      " \n"
     ]
    },
    {
     "data": {
      "text/html": [
       "<div>\n",
       "<style scoped>\n",
       "    .dataframe tbody tr th:only-of-type {\n",
       "        vertical-align: middle;\n",
       "    }\n",
       "\n",
       "    .dataframe tbody tr th {\n",
       "        vertical-align: top;\n",
       "    }\n",
       "\n",
       "    .dataframe thead th {\n",
       "        text-align: right;\n",
       "    }\n",
       "</style>\n",
       "<table border=\"1\" class=\"dataframe\">\n",
       "  <thead>\n",
       "    <tr style=\"text-align: right;\">\n",
       "      <th></th>\n",
       "      <th>Country</th>\n",
       "      <th>Granularity</th>\n",
       "      <th>Year</th>\n",
       "      <th>Population</th>\n",
       "    </tr>\n",
       "  </thead>\n",
       "  <tbody>\n",
       "    <tr>\n",
       "      <th>3364</th>\n",
       "      <td>Cayman Islands</td>\n",
       "      <td>Total</td>\n",
       "      <td>2005</td>\n",
       "      <td>49.261</td>\n",
       "    </tr>\n",
       "    <tr>\n",
       "      <th>3365</th>\n",
       "      <td>Cayman Islands</td>\n",
       "      <td>Rural</td>\n",
       "      <td>2005</td>\n",
       "      <td>0.000</td>\n",
       "    </tr>\n",
       "    <tr>\n",
       "      <th>3366</th>\n",
       "      <td>Cayman Islands</td>\n",
       "      <td>Urban</td>\n",
       "      <td>2005</td>\n",
       "      <td>48.622</td>\n",
       "    </tr>\n",
       "  </tbody>\n",
       "</table>\n",
       "</div>"
      ],
      "text/plain": [
       "             Country Granularity  Year  Population\n",
       "3364  Cayman Islands       Total  2005      49.261\n",
       "3365  Cayman Islands       Rural  2005       0.000\n",
       "3366  Cayman Islands       Urban  2005      48.622"
      ]
     },
     "metadata": {},
     "output_type": "display_data"
    },
    {
     "name": "stdout",
     "output_type": "stream",
     "text": [
      " \n"
     ]
    },
    {
     "data": {
      "text/html": [
       "<div>\n",
       "<style scoped>\n",
       "    .dataframe tbody tr th:only-of-type {\n",
       "        vertical-align: middle;\n",
       "    }\n",
       "\n",
       "    .dataframe tbody tr th {\n",
       "        vertical-align: top;\n",
       "    }\n",
       "\n",
       "    .dataframe thead th {\n",
       "        text-align: right;\n",
       "    }\n",
       "</style>\n",
       "<table border=\"1\" class=\"dataframe\">\n",
       "  <thead>\n",
       "    <tr style=\"text-align: right;\">\n",
       "      <th></th>\n",
       "      <th>Country</th>\n",
       "      <th>Granularity</th>\n",
       "      <th>Year</th>\n",
       "      <th>Population</th>\n",
       "    </tr>\n",
       "  </thead>\n",
       "  <tbody>\n",
       "    <tr>\n",
       "      <th>3906</th>\n",
       "      <td>China, Hong Kong SAR</td>\n",
       "      <td>Total</td>\n",
       "      <td>2005</td>\n",
       "      <td>6769.574</td>\n",
       "    </tr>\n",
       "    <tr>\n",
       "      <th>3907</th>\n",
       "      <td>China, Hong Kong SAR</td>\n",
       "      <td>Male</td>\n",
       "      <td>2005</td>\n",
       "      <td>3252.142</td>\n",
       "    </tr>\n",
       "    <tr>\n",
       "      <th>3908</th>\n",
       "      <td>China, Hong Kong SAR</td>\n",
       "      <td>Female</td>\n",
       "      <td>2005</td>\n",
       "      <td>3517.437</td>\n",
       "    </tr>\n",
       "    <tr>\n",
       "      <th>3909</th>\n",
       "      <td>China, Hong Kong SAR</td>\n",
       "      <td>Rural</td>\n",
       "      <td>2005</td>\n",
       "      <td>0.000</td>\n",
       "    </tr>\n",
       "    <tr>\n",
       "      <th>3910</th>\n",
       "      <td>China, Hong Kong SAR</td>\n",
       "      <td>Urban</td>\n",
       "      <td>2005</td>\n",
       "      <td>6827.761</td>\n",
       "    </tr>\n",
       "  </tbody>\n",
       "</table>\n",
       "</div>"
      ],
      "text/plain": [
       "                   Country Granularity  Year  Population\n",
       "3906  China, Hong Kong SAR       Total  2005    6769.574\n",
       "3907  China, Hong Kong SAR        Male  2005    3252.142\n",
       "3908  China, Hong Kong SAR      Female  2005    3517.437\n",
       "3909  China, Hong Kong SAR       Rural  2005       0.000\n",
       "3910  China, Hong Kong SAR       Urban  2005    6827.761"
      ]
     },
     "metadata": {},
     "output_type": "display_data"
    },
    {
     "name": "stdout",
     "output_type": "stream",
     "text": [
      " \n"
     ]
    },
    {
     "data": {
      "text/html": [
       "<div>\n",
       "<style scoped>\n",
       "    .dataframe tbody tr th:only-of-type {\n",
       "        vertical-align: middle;\n",
       "    }\n",
       "\n",
       "    .dataframe tbody tr th {\n",
       "        vertical-align: top;\n",
       "    }\n",
       "\n",
       "    .dataframe thead th {\n",
       "        text-align: right;\n",
       "    }\n",
       "</style>\n",
       "<table border=\"1\" class=\"dataframe\">\n",
       "  <thead>\n",
       "    <tr style=\"text-align: right;\">\n",
       "      <th></th>\n",
       "      <th>Country</th>\n",
       "      <th>Granularity</th>\n",
       "      <th>Year</th>\n",
       "      <th>Population</th>\n",
       "    </tr>\n",
       "  </thead>\n",
       "  <tbody>\n",
       "    <tr>\n",
       "      <th>4001</th>\n",
       "      <td>China, Macao SAR</td>\n",
       "      <td>Total</td>\n",
       "      <td>2005</td>\n",
       "      <td>482.858</td>\n",
       "    </tr>\n",
       "    <tr>\n",
       "      <th>4002</th>\n",
       "      <td>China, Macao SAR</td>\n",
       "      <td>Male</td>\n",
       "      <td>2005</td>\n",
       "      <td>229.402</td>\n",
       "    </tr>\n",
       "    <tr>\n",
       "      <th>4003</th>\n",
       "      <td>China, Macao SAR</td>\n",
       "      <td>Female</td>\n",
       "      <td>2005</td>\n",
       "      <td>253.461</td>\n",
       "    </tr>\n",
       "    <tr>\n",
       "      <th>4004</th>\n",
       "      <td>China, Macao SAR</td>\n",
       "      <td>Rural</td>\n",
       "      <td>2005</td>\n",
       "      <td>0.000</td>\n",
       "    </tr>\n",
       "    <tr>\n",
       "      <th>4005</th>\n",
       "      <td>China, Macao SAR</td>\n",
       "      <td>Urban</td>\n",
       "      <td>2005</td>\n",
       "      <td>482.559</td>\n",
       "    </tr>\n",
       "  </tbody>\n",
       "</table>\n",
       "</div>"
      ],
      "text/plain": [
       "               Country Granularity  Year  Population\n",
       "4001  China, Macao SAR       Total  2005     482.858\n",
       "4002  China, Macao SAR        Male  2005     229.402\n",
       "4003  China, Macao SAR      Female  2005     253.461\n",
       "4004  China, Macao SAR       Rural  2005       0.000\n",
       "4005  China, Macao SAR       Urban  2005     482.559"
      ]
     },
     "metadata": {},
     "output_type": "display_data"
    },
    {
     "name": "stdout",
     "output_type": "stream",
     "text": [
      " \n"
     ]
    },
    {
     "data": {
      "text/html": [
       "<div>\n",
       "<style scoped>\n",
       "    .dataframe tbody tr th:only-of-type {\n",
       "        vertical-align: middle;\n",
       "    }\n",
       "\n",
       "    .dataframe tbody tr th {\n",
       "        vertical-align: top;\n",
       "    }\n",
       "\n",
       "    .dataframe thead th {\n",
       "        text-align: right;\n",
       "    }\n",
       "</style>\n",
       "<table border=\"1\" class=\"dataframe\">\n",
       "  <thead>\n",
       "    <tr style=\"text-align: right;\">\n",
       "      <th></th>\n",
       "      <th>Country</th>\n",
       "      <th>Granularity</th>\n",
       "      <th>Year</th>\n",
       "      <th>Population</th>\n",
       "    </tr>\n",
       "  </thead>\n",
       "  <tbody>\n",
       "    <tr>\n",
       "      <th>7584</th>\n",
       "      <td>Gibraltar</td>\n",
       "      <td>Total</td>\n",
       "      <td>2005</td>\n",
       "      <td>33.219</td>\n",
       "    </tr>\n",
       "    <tr>\n",
       "      <th>7585</th>\n",
       "      <td>Gibraltar</td>\n",
       "      <td>Rural</td>\n",
       "      <td>2005</td>\n",
       "      <td>0.000</td>\n",
       "    </tr>\n",
       "    <tr>\n",
       "      <th>7586</th>\n",
       "      <td>Gibraltar</td>\n",
       "      <td>Urban</td>\n",
       "      <td>2005</td>\n",
       "      <td>32.085</td>\n",
       "    </tr>\n",
       "  </tbody>\n",
       "</table>\n",
       "</div>"
      ],
      "text/plain": [
       "        Country Granularity  Year  Population\n",
       "7584  Gibraltar       Total  2005      33.219\n",
       "7585  Gibraltar       Rural  2005       0.000\n",
       "7586  Gibraltar       Urban  2005      32.085"
      ]
     },
     "metadata": {},
     "output_type": "display_data"
    },
    {
     "name": "stdout",
     "output_type": "stream",
     "text": [
      " \n"
     ]
    },
    {
     "data": {
      "text/html": [
       "<div>\n",
       "<style scoped>\n",
       "    .dataframe tbody tr th:only-of-type {\n",
       "        vertical-align: middle;\n",
       "    }\n",
       "\n",
       "    .dataframe tbody tr th {\n",
       "        vertical-align: top;\n",
       "    }\n",
       "\n",
       "    .dataframe thead th {\n",
       "        text-align: right;\n",
       "    }\n",
       "</style>\n",
       "<table border=\"1\" class=\"dataframe\">\n",
       "  <thead>\n",
       "    <tr style=\"text-align: right;\">\n",
       "      <th></th>\n",
       "      <th>Country</th>\n",
       "      <th>Granularity</th>\n",
       "      <th>Year</th>\n",
       "      <th>Population</th>\n",
       "    </tr>\n",
       "  </thead>\n",
       "  <tbody>\n",
       "    <tr>\n",
       "      <th>8553</th>\n",
       "      <td>Holy See</td>\n",
       "      <td>Total</td>\n",
       "      <td>2005</td>\n",
       "      <td>0.798</td>\n",
       "    </tr>\n",
       "    <tr>\n",
       "      <th>8554</th>\n",
       "      <td>Holy See</td>\n",
       "      <td>Rural</td>\n",
       "      <td>2005</td>\n",
       "      <td>0.000</td>\n",
       "    </tr>\n",
       "    <tr>\n",
       "      <th>8555</th>\n",
       "      <td>Holy See</td>\n",
       "      <td>Urban</td>\n",
       "      <td>2005</td>\n",
       "      <td>0.798</td>\n",
       "    </tr>\n",
       "  </tbody>\n",
       "</table>\n",
       "</div>"
      ],
      "text/plain": [
       "       Country Granularity  Year  Population\n",
       "8553  Holy See       Total  2005       0.798\n",
       "8554  Holy See       Rural  2005       0.000\n",
       "8555  Holy See       Urban  2005       0.798"
      ]
     },
     "metadata": {},
     "output_type": "display_data"
    },
    {
     "name": "stdout",
     "output_type": "stream",
     "text": [
      " \n"
     ]
    },
    {
     "data": {
      "text/html": [
       "<div>\n",
       "<style scoped>\n",
       "    .dataframe tbody tr th:only-of-type {\n",
       "        vertical-align: middle;\n",
       "    }\n",
       "\n",
       "    .dataframe tbody tr th {\n",
       "        vertical-align: top;\n",
       "    }\n",
       "\n",
       "    .dataframe thead th {\n",
       "        text-align: right;\n",
       "    }\n",
       "</style>\n",
       "<table border=\"1\" class=\"dataframe\">\n",
       "  <thead>\n",
       "    <tr style=\"text-align: right;\">\n",
       "      <th></th>\n",
       "      <th>Country</th>\n",
       "      <th>Granularity</th>\n",
       "      <th>Year</th>\n",
       "      <th>Population</th>\n",
       "    </tr>\n",
       "  </thead>\n",
       "  <tbody>\n",
       "    <tr>\n",
       "      <th>10197</th>\n",
       "      <td>Kuwait</td>\n",
       "      <td>Total</td>\n",
       "      <td>2005</td>\n",
       "      <td>2270.198</td>\n",
       "    </tr>\n",
       "    <tr>\n",
       "      <th>10198</th>\n",
       "      <td>Kuwait</td>\n",
       "      <td>Male</td>\n",
       "      <td>2005</td>\n",
       "      <td>1340.475</td>\n",
       "    </tr>\n",
       "    <tr>\n",
       "      <th>10199</th>\n",
       "      <td>Kuwait</td>\n",
       "      <td>Female</td>\n",
       "      <td>2005</td>\n",
       "      <td>929.721</td>\n",
       "    </tr>\n",
       "    <tr>\n",
       "      <th>10200</th>\n",
       "      <td>Kuwait</td>\n",
       "      <td>Rural</td>\n",
       "      <td>2005</td>\n",
       "      <td>0.000</td>\n",
       "    </tr>\n",
       "    <tr>\n",
       "      <th>10201</th>\n",
       "      <td>Kuwait</td>\n",
       "      <td>Urban</td>\n",
       "      <td>2005</td>\n",
       "      <td>2276.623</td>\n",
       "    </tr>\n",
       "  </tbody>\n",
       "</table>\n",
       "</div>"
      ],
      "text/plain": [
       "      Country Granularity  Year  Population\n",
       "10197  Kuwait       Total  2005    2270.198\n",
       "10198  Kuwait        Male  2005    1340.475\n",
       "10199  Kuwait      Female  2005     929.721\n",
       "10200  Kuwait       Rural  2005       0.000\n",
       "10201  Kuwait       Urban  2005    2276.623"
      ]
     },
     "metadata": {},
     "output_type": "display_data"
    },
    {
     "name": "stdout",
     "output_type": "stream",
     "text": [
      " \n"
     ]
    },
    {
     "data": {
      "text/html": [
       "<div>\n",
       "<style scoped>\n",
       "    .dataframe tbody tr th:only-of-type {\n",
       "        vertical-align: middle;\n",
       "    }\n",
       "\n",
       "    .dataframe tbody tr th {\n",
       "        vertical-align: top;\n",
       "    }\n",
       "\n",
       "    .dataframe thead th {\n",
       "        text-align: right;\n",
       "    }\n",
       "</style>\n",
       "<table border=\"1\" class=\"dataframe\">\n",
       "  <thead>\n",
       "    <tr style=\"text-align: right;\">\n",
       "      <th></th>\n",
       "      <th>Country</th>\n",
       "      <th>Granularity</th>\n",
       "      <th>Year</th>\n",
       "      <th>Population</th>\n",
       "    </tr>\n",
       "  </thead>\n",
       "  <tbody>\n",
       "    <tr>\n",
       "      <th>12391</th>\n",
       "      <td>Monaco</td>\n",
       "      <td>Total</td>\n",
       "      <td>2005</td>\n",
       "      <td>33.843</td>\n",
       "    </tr>\n",
       "    <tr>\n",
       "      <th>12392</th>\n",
       "      <td>Monaco</td>\n",
       "      <td>Rural</td>\n",
       "      <td>2005</td>\n",
       "      <td>0.000</td>\n",
       "    </tr>\n",
       "    <tr>\n",
       "      <th>12393</th>\n",
       "      <td>Monaco</td>\n",
       "      <td>Urban</td>\n",
       "      <td>2005</td>\n",
       "      <td>33.793</td>\n",
       "    </tr>\n",
       "  </tbody>\n",
       "</table>\n",
       "</div>"
      ],
      "text/plain": [
       "      Country Granularity  Year  Population\n",
       "12391  Monaco       Total  2005      33.843\n",
       "12392  Monaco       Rural  2005       0.000\n",
       "12393  Monaco       Urban  2005      33.793"
      ]
     },
     "metadata": {},
     "output_type": "display_data"
    },
    {
     "name": "stdout",
     "output_type": "stream",
     "text": [
      " \n"
     ]
    },
    {
     "data": {
      "text/html": [
       "<div>\n",
       "<style scoped>\n",
       "    .dataframe tbody tr th:only-of-type {\n",
       "        vertical-align: middle;\n",
       "    }\n",
       "\n",
       "    .dataframe tbody tr th {\n",
       "        vertical-align: top;\n",
       "    }\n",
       "\n",
       "    .dataframe thead th {\n",
       "        text-align: right;\n",
       "    }\n",
       "</style>\n",
       "<table border=\"1\" class=\"dataframe\">\n",
       "  <thead>\n",
       "    <tr style=\"text-align: right;\">\n",
       "      <th></th>\n",
       "      <th>Country</th>\n",
       "      <th>Granularity</th>\n",
       "      <th>Year</th>\n",
       "      <th>Population</th>\n",
       "    </tr>\n",
       "  </thead>\n",
       "  <tbody>\n",
       "    <tr>\n",
       "      <th>13045</th>\n",
       "      <td>Nauru</td>\n",
       "      <td>Total</td>\n",
       "      <td>2005</td>\n",
       "      <td>9.849</td>\n",
       "    </tr>\n",
       "    <tr>\n",
       "      <th>13046</th>\n",
       "      <td>Nauru</td>\n",
       "      <td>Rural</td>\n",
       "      <td>2005</td>\n",
       "      <td>0.000</td>\n",
       "    </tr>\n",
       "    <tr>\n",
       "      <th>13047</th>\n",
       "      <td>Nauru</td>\n",
       "      <td>Urban</td>\n",
       "      <td>2005</td>\n",
       "      <td>10.114</td>\n",
       "    </tr>\n",
       "  </tbody>\n",
       "</table>\n",
       "</div>"
      ],
      "text/plain": [
       "      Country Granularity  Year  Population\n",
       "13045   Nauru       Total  2005       9.849\n",
       "13046   Nauru       Rural  2005       0.000\n",
       "13047   Nauru       Urban  2005      10.114"
      ]
     },
     "metadata": {},
     "output_type": "display_data"
    },
    {
     "name": "stdout",
     "output_type": "stream",
     "text": [
      " \n"
     ]
    },
    {
     "data": {
      "text/html": [
       "<div>\n",
       "<style scoped>\n",
       "    .dataframe tbody tr th:only-of-type {\n",
       "        vertical-align: middle;\n",
       "    }\n",
       "\n",
       "    .dataframe tbody tr th {\n",
       "        vertical-align: top;\n",
       "    }\n",
       "\n",
       "    .dataframe thead th {\n",
       "        text-align: right;\n",
       "    }\n",
       "</style>\n",
       "<table border=\"1\" class=\"dataframe\">\n",
       "  <thead>\n",
       "    <tr style=\"text-align: right;\">\n",
       "      <th></th>\n",
       "      <th>Country</th>\n",
       "      <th>Granularity</th>\n",
       "      <th>Year</th>\n",
       "      <th>Population</th>\n",
       "    </tr>\n",
       "  </thead>\n",
       "  <tbody>\n",
       "    <tr>\n",
       "      <th>17042</th>\n",
       "      <td>Singapore</td>\n",
       "      <td>Total</td>\n",
       "      <td>2005</td>\n",
       "      <td>4265.687</td>\n",
       "    </tr>\n",
       "    <tr>\n",
       "      <th>17043</th>\n",
       "      <td>Singapore</td>\n",
       "      <td>Male</td>\n",
       "      <td>2005</td>\n",
       "      <td>2156.060</td>\n",
       "    </tr>\n",
       "    <tr>\n",
       "      <th>17044</th>\n",
       "      <td>Singapore</td>\n",
       "      <td>Female</td>\n",
       "      <td>2005</td>\n",
       "      <td>2109.633</td>\n",
       "    </tr>\n",
       "    <tr>\n",
       "      <th>17045</th>\n",
       "      <td>Singapore</td>\n",
       "      <td>Rural</td>\n",
       "      <td>2005</td>\n",
       "      <td>0.000</td>\n",
       "    </tr>\n",
       "    <tr>\n",
       "      <th>17046</th>\n",
       "      <td>Singapore</td>\n",
       "      <td>Urban</td>\n",
       "      <td>2005</td>\n",
       "      <td>4491.042</td>\n",
       "    </tr>\n",
       "  </tbody>\n",
       "</table>\n",
       "</div>"
      ],
      "text/plain": [
       "         Country Granularity  Year  Population\n",
       "17042  Singapore       Total  2005    4265.687\n",
       "17043  Singapore        Male  2005    2156.060\n",
       "17044  Singapore      Female  2005    2109.633\n",
       "17045  Singapore       Rural  2005       0.000\n",
       "17046  Singapore       Urban  2005    4491.042"
      ]
     },
     "metadata": {},
     "output_type": "display_data"
    },
    {
     "name": "stdout",
     "output_type": "stream",
     "text": [
      " \n"
     ]
    },
    {
     "data": {
      "text/html": [
       "<div>\n",
       "<style scoped>\n",
       "    .dataframe tbody tr th:only-of-type {\n",
       "        vertical-align: middle;\n",
       "    }\n",
       "\n",
       "    .dataframe tbody tr th {\n",
       "        vertical-align: top;\n",
       "    }\n",
       "\n",
       "    .dataframe thead th {\n",
       "        text-align: right;\n",
       "    }\n",
       "</style>\n",
       "<table border=\"1\" class=\"dataframe\">\n",
       "  <thead>\n",
       "    <tr style=\"text-align: right;\">\n",
       "      <th></th>\n",
       "      <th>Country</th>\n",
       "      <th>Granularity</th>\n",
       "      <th>Year</th>\n",
       "      <th>Population</th>\n",
       "    </tr>\n",
       "  </thead>\n",
       "  <tbody>\n",
       "  </tbody>\n",
       "</table>\n",
       "</div>"
      ],
      "text/plain": [
       "Empty DataFrame\n",
       "Columns: [Country, Granularity, Year, Population]\n",
       "Index: []"
      ]
     },
     "metadata": {},
     "output_type": "display_data"
    },
    {
     "name": "stdout",
     "output_type": "stream",
     "text": [
      " \n"
     ]
    },
    {
     "data": {
      "text/html": [
       "<div>\n",
       "<style scoped>\n",
       "    .dataframe tbody tr th:only-of-type {\n",
       "        vertical-align: middle;\n",
       "    }\n",
       "\n",
       "    .dataframe tbody tr th {\n",
       "        vertical-align: top;\n",
       "    }\n",
       "\n",
       "    .dataframe thead th {\n",
       "        text-align: right;\n",
       "    }\n",
       "</style>\n",
       "<table border=\"1\" class=\"dataframe\">\n",
       "  <thead>\n",
       "    <tr style=\"text-align: right;\">\n",
       "      <th></th>\n",
       "      <th>Country</th>\n",
       "      <th>Granularity</th>\n",
       "      <th>Year</th>\n",
       "      <th>Population</th>\n",
       "    </tr>\n",
       "  </thead>\n",
       "  <tbody>\n",
       "    <tr>\n",
       "      <th>18706</th>\n",
       "      <td>Tokelau</td>\n",
       "      <td>Total</td>\n",
       "      <td>2005</td>\n",
       "      <td>1.208</td>\n",
       "    </tr>\n",
       "    <tr>\n",
       "      <th>18707</th>\n",
       "      <td>Tokelau</td>\n",
       "      <td>Rural</td>\n",
       "      <td>2005</td>\n",
       "      <td>1.208</td>\n",
       "    </tr>\n",
       "    <tr>\n",
       "      <th>18708</th>\n",
       "      <td>Tokelau</td>\n",
       "      <td>Urban</td>\n",
       "      <td>2005</td>\n",
       "      <td>0.000</td>\n",
       "    </tr>\n",
       "  </tbody>\n",
       "</table>\n",
       "</div>"
      ],
      "text/plain": [
       "       Country Granularity  Year  Population\n",
       "18706  Tokelau       Total  2005       1.208\n",
       "18707  Tokelau       Rural  2005       1.208\n",
       "18708  Tokelau       Urban  2005       0.000"
      ]
     },
     "metadata": {},
     "output_type": "display_data"
    },
    {
     "name": "stdout",
     "output_type": "stream",
     "text": [
      " \n"
     ]
    },
    {
     "data": {
      "text/html": [
       "<div>\n",
       "<style scoped>\n",
       "    .dataframe tbody tr th:only-of-type {\n",
       "        vertical-align: middle;\n",
       "    }\n",
       "\n",
       "    .dataframe tbody tr th {\n",
       "        vertical-align: top;\n",
       "    }\n",
       "\n",
       "    .dataframe thead th {\n",
       "        text-align: right;\n",
       "    }\n",
       "</style>\n",
       "<table border=\"1\" class=\"dataframe\">\n",
       "  <thead>\n",
       "    <tr style=\"text-align: right;\">\n",
       "      <th></th>\n",
       "      <th>Country</th>\n",
       "      <th>Granularity</th>\n",
       "      <th>Year</th>\n",
       "      <th>Population</th>\n",
       "    </tr>\n",
       "  </thead>\n",
       "  <tbody>\n",
       "    <tr>\n",
       "      <th>20492</th>\n",
       "      <td>Wallis and Futuna Islands</td>\n",
       "      <td>Total</td>\n",
       "      <td>2005</td>\n",
       "      <td>14.939</td>\n",
       "    </tr>\n",
       "    <tr>\n",
       "      <th>20493</th>\n",
       "      <td>Wallis and Futuna Islands</td>\n",
       "      <td>Rural</td>\n",
       "      <td>2005</td>\n",
       "      <td>14.568</td>\n",
       "    </tr>\n",
       "    <tr>\n",
       "      <th>20494</th>\n",
       "      <td>Wallis and Futuna Islands</td>\n",
       "      <td>Urban</td>\n",
       "      <td>2005</td>\n",
       "      <td>0.000</td>\n",
       "    </tr>\n",
       "  </tbody>\n",
       "</table>\n",
       "</div>"
      ],
      "text/plain": [
       "                         Country Granularity  Year  Population\n",
       "20492  Wallis and Futuna Islands       Total  2005      14.939\n",
       "20493  Wallis and Futuna Islands       Rural  2005      14.568\n",
       "20494  Wallis and Futuna Islands       Urban  2005       0.000"
      ]
     },
     "metadata": {},
     "output_type": "display_data"
    },
    {
     "name": "stdout",
     "output_type": "stream",
     "text": [
      " \n"
     ]
    }
   ],
   "source": [
    "# ici nous affectons à la variable list_0 la liste de pays concernés par des données de population à 0\n",
    "list_0 = population_0['Country'].unique().tolist()\n",
    "\n",
    "# nous réalisont ensuite une boucle qui nous affiche les données de chaque pays de la liste pour l'année 2005\n",
    "for i in list_0:\n",
    "    i = population.loc[(population['Country'] == i) & (population['Year'] == 2005)]\n",
    "    display(i)\n",
    "    print(\" \")\n"
   ]
  },
  {
   "cell_type": "markdown",
   "metadata": {},
   "source": [
    "Les résultats confirment notre hypothèse : lorsqu'il n'y a pas de données de population en zone rurale, c'est que tous les habitants se trouvent en zone urbaine, et inverseement. Il n'y a donc pas de modification à réaliser. Cependant, nous pouvons observer que les chiffres ne corresmondent pas toujours au total. Nous allons regarder cela plus en détail dans les prochaines lignes."
   ]
  },
  {
   "cell_type": "code",
   "execution_count": 17,
   "metadata": {},
   "outputs": [
    {
     "data": {
      "text/html": [
       "<div>\n",
       "<style scoped>\n",
       "    .dataframe tbody tr th:only-of-type {\n",
       "        vertical-align: middle;\n",
       "    }\n",
       "\n",
       "    .dataframe tbody tr th {\n",
       "        vertical-align: top;\n",
       "    }\n",
       "\n",
       "    .dataframe thead th {\n",
       "        text-align: right;\n",
       "    }\n",
       "</style>\n",
       "<table border=\"1\" class=\"dataframe\">\n",
       "  <thead>\n",
       "    <tr style=\"text-align: right;\">\n",
       "      <th></th>\n",
       "      <th>Country</th>\n",
       "      <th>Granularity</th>\n",
       "      <th>Year</th>\n",
       "      <th>Population</th>\n",
       "    </tr>\n",
       "  </thead>\n",
       "  <tbody>\n",
       "    <tr>\n",
       "      <th>0</th>\n",
       "      <td>Afghanistan</td>\n",
       "      <td>Total</td>\n",
       "      <td>2000</td>\n",
       "      <td>20779.953</td>\n",
       "    </tr>\n",
       "    <tr>\n",
       "      <th>1</th>\n",
       "      <td>Afghanistan</td>\n",
       "      <td>Male</td>\n",
       "      <td>2000</td>\n",
       "      <td>10689.508</td>\n",
       "    </tr>\n",
       "    <tr>\n",
       "      <th>2</th>\n",
       "      <td>Afghanistan</td>\n",
       "      <td>Female</td>\n",
       "      <td>2000</td>\n",
       "      <td>10090.449</td>\n",
       "    </tr>\n",
       "    <tr>\n",
       "      <th>3</th>\n",
       "      <td>Afghanistan</td>\n",
       "      <td>Rural</td>\n",
       "      <td>2000</td>\n",
       "      <td>15657.474</td>\n",
       "    </tr>\n",
       "    <tr>\n",
       "      <th>4</th>\n",
       "      <td>Afghanistan</td>\n",
       "      <td>Urban</td>\n",
       "      <td>2000</td>\n",
       "      <td>4436.282</td>\n",
       "    </tr>\n",
       "  </tbody>\n",
       "</table>\n",
       "</div>"
      ],
      "text/plain": [
       "       Country Granularity  Year  Population\n",
       "0  Afghanistan       Total  2000   20779.953\n",
       "1  Afghanistan        Male  2000   10689.508\n",
       "2  Afghanistan      Female  2000   10090.449\n",
       "3  Afghanistan       Rural  2000   15657.474\n",
       "4  Afghanistan       Urban  2000    4436.282"
      ]
     },
     "execution_count": 17,
     "metadata": {},
     "output_type": "execute_result"
    }
   ],
   "source": [
    "population_verif = population.loc[(population['Country'] == 'Afghanistan')&(population['Year'] == 2000)].copy()\n",
    "population_verif"
   ]
  },
  {
   "cell_type": "markdown",
   "metadata": {},
   "source": [
    "On peut vérifier si, par exemple, pour l'Afghanistan, la somme des hommes et des femmes correspond bien au total, puis si la somme des habitants des zones urbaines et rurales correspond bien au total. "
   ]
  },
  {
   "cell_type": "code",
   "execution_count": 18,
   "metadata": {},
   "outputs": [
    {
     "name": "stdout",
     "output_type": "stream",
     "text": [
      "Total : 20779.953\n",
      "Male + Female : 20779.957 ( -0.004 )\n",
      "Rural + Urban : 20093.756 ( 686.197 )\n"
     ]
    }
   ],
   "source": [
    "total = np.round(population_verif.loc[population_verif['Granularity'] == 'Total', 'Population'],3)[0]\n",
    "male_female = np.round(np.sum(population_verif.loc[(population_verif['Granularity']=='Male') | (population_verif['Granularity']=='Female'), 'Population']),3)\n",
    "urban_rural = np.round(np.sum(population_verif.loc[(population_verif['Granularity'] == 'Rural') | (population_verif['Granularity'] == 'Urban'), 'Population']), 3)\n",
    "\n",
    "print(\"Total :\", total)\n",
    "print(\"Male + Female :\", male_female, \"(\", round(total - male_female, 3) ,\")\")\n",
    "print(\"Rural + Urban :\", urban_rural, \"(\", round(total - urban_rural, 3) ,\")\")"
   ]
  },
  {
   "cell_type": "markdown",
   "metadata": {},
   "source": [
    "On remarque que la somme des sexes correspond bien au total (à peu de choses près), mais que la somme de urban + rural ne correspond pas au total. \n",
    "\n",
    "Cela pourrait nous poser problème dans notre future analyse. \n",
    "\n",
    "Pour régler ce problème, nous pouvons faire la somme de urban et rural, puis calculer les pourcentage et les appliquer au total afin d'avoir des sommes cohérentes. Nous pouvons également réaliser cette opération pour les sexes afin d'être sûr qu'il n'y ait pas d'écarts.\n",
    "\n",
    "Il est également possible de préciser lors de notre présentation que les sommes des population par sexe ne correspondent pas exactement aux sommes des population par environnement, tout en précisant que ce qui nous importe n'est pas le nombre d'habitant, mais plutôt la répartition entre hommes et femmes, puis entre habitants urbains et ruraux."
   ]
  },
  {
   "cell_type": "markdown",
   "metadata": {},
   "source": [
    "### Le fichier 'RegionCountry.csv'"
   ]
  },
  {
   "cell_type": "code",
   "execution_count": 19,
   "metadata": {},
   "outputs": [
    {
     "data": {
      "text/html": [
       "<div>\n",
       "<style scoped>\n",
       "    .dataframe tbody tr th:only-of-type {\n",
       "        vertical-align: middle;\n",
       "    }\n",
       "\n",
       "    .dataframe tbody tr th {\n",
       "        vertical-align: top;\n",
       "    }\n",
       "\n",
       "    .dataframe thead th {\n",
       "        text-align: right;\n",
       "    }\n",
       "</style>\n",
       "<table border=\"1\" class=\"dataframe\">\n",
       "  <thead>\n",
       "    <tr style=\"text-align: right;\">\n",
       "      <th></th>\n",
       "      <th>REGION (DISPLAY)</th>\n",
       "      <th>COUNTRY (DISPLAY)</th>\n",
       "    </tr>\n",
       "  </thead>\n",
       "  <tbody>\n",
       "    <tr>\n",
       "      <th>0</th>\n",
       "      <td>Europe</td>\n",
       "      <td>Albania</td>\n",
       "    </tr>\n",
       "    <tr>\n",
       "      <th>1</th>\n",
       "      <td>Europe</td>\n",
       "      <td>Andorra</td>\n",
       "    </tr>\n",
       "    <tr>\n",
       "      <th>2</th>\n",
       "      <td>Europe</td>\n",
       "      <td>Armenia</td>\n",
       "    </tr>\n",
       "    <tr>\n",
       "      <th>3</th>\n",
       "      <td>Western Pacific</td>\n",
       "      <td>Australia</td>\n",
       "    </tr>\n",
       "    <tr>\n",
       "      <th>4</th>\n",
       "      <td>Europe</td>\n",
       "      <td>Austria</td>\n",
       "    </tr>\n",
       "    <tr>\n",
       "      <th>5</th>\n",
       "      <td>Europe</td>\n",
       "      <td>Azerbaijan</td>\n",
       "    </tr>\n",
       "    <tr>\n",
       "      <th>6</th>\n",
       "      <td>Eastern Mediterranean</td>\n",
       "      <td>Bahrain</td>\n",
       "    </tr>\n",
       "    <tr>\n",
       "      <th>7</th>\n",
       "      <td>South-East Asia</td>\n",
       "      <td>Bangladesh</td>\n",
       "    </tr>\n",
       "    <tr>\n",
       "      <th>8</th>\n",
       "      <td>Europe</td>\n",
       "      <td>Belarus</td>\n",
       "    </tr>\n",
       "    <tr>\n",
       "      <th>9</th>\n",
       "      <td>Europe</td>\n",
       "      <td>Belgium</td>\n",
       "    </tr>\n",
       "  </tbody>\n",
       "</table>\n",
       "</div>"
      ],
      "text/plain": [
       "        REGION (DISPLAY) COUNTRY (DISPLAY)\n",
       "0                 Europe           Albania\n",
       "1                 Europe           Andorra\n",
       "2                 Europe           Armenia\n",
       "3        Western Pacific         Australia\n",
       "4                 Europe           Austria\n",
       "5                 Europe        Azerbaijan\n",
       "6  Eastern Mediterranean           Bahrain\n",
       "7        South-East Asia        Bangladesh\n",
       "8                 Europe           Belarus\n",
       "9                 Europe           Belgium"
      ]
     },
     "execution_count": 19,
     "metadata": {},
     "output_type": "execute_result"
    }
   ],
   "source": [
    "# affichage des premières lignes\n",
    "region_country.head(10)"
   ]
  },
  {
   "cell_type": "markdown",
   "metadata": {},
   "source": [
    "À première vue, ce tableau nous liste les différents pays, puis le continent associé. Nous pouvons noter que le nom des colonne peut être changé afin de faciliter l'écriture du code. "
   ]
  },
  {
   "cell_type": "code",
   "execution_count": 20,
   "metadata": {},
   "outputs": [
    {
     "data": {
      "text/plain": [
       "(194, 2)"
      ]
     },
     "execution_count": 20,
     "metadata": {},
     "output_type": "execute_result"
    }
   ],
   "source": [
    "# affichage des dimensions de la table region_country\n",
    "region_country.shape"
   ]
  },
  {
   "cell_type": "code",
   "execution_count": 21,
   "metadata": {},
   "outputs": [
    {
     "data": {
      "text/html": [
       "<div>\n",
       "<style scoped>\n",
       "    .dataframe tbody tr th:only-of-type {\n",
       "        vertical-align: middle;\n",
       "    }\n",
       "\n",
       "    .dataframe tbody tr th {\n",
       "        vertical-align: top;\n",
       "    }\n",
       "\n",
       "    .dataframe thead th {\n",
       "        text-align: right;\n",
       "    }\n",
       "</style>\n",
       "<table border=\"1\" class=\"dataframe\">\n",
       "  <thead>\n",
       "    <tr style=\"text-align: right;\">\n",
       "      <th></th>\n",
       "      <th>REGION (DISPLAY)</th>\n",
       "      <th>COUNTRY (DISPLAY)</th>\n",
       "    </tr>\n",
       "  </thead>\n",
       "  <tbody>\n",
       "    <tr>\n",
       "      <th>count</th>\n",
       "      <td>194</td>\n",
       "      <td>194</td>\n",
       "    </tr>\n",
       "    <tr>\n",
       "      <th>unique</th>\n",
       "      <td>6</td>\n",
       "      <td>194</td>\n",
       "    </tr>\n",
       "    <tr>\n",
       "      <th>top</th>\n",
       "      <td>Europe</td>\n",
       "      <td>Albania</td>\n",
       "    </tr>\n",
       "    <tr>\n",
       "      <th>freq</th>\n",
       "      <td>53</td>\n",
       "      <td>1</td>\n",
       "    </tr>\n",
       "  </tbody>\n",
       "</table>\n",
       "</div>"
      ],
      "text/plain": [
       "       REGION (DISPLAY) COUNTRY (DISPLAY)\n",
       "count               194               194\n",
       "unique                6               194\n",
       "top              Europe           Albania\n",
       "freq                 53                 1"
      ]
     },
     "execution_count": 21,
     "metadata": {},
     "output_type": "execute_result"
    }
   ],
   "source": [
    "# affichage des détails de la table region_country\n",
    "region_country.describe()"
   ]
  },
  {
   "cell_type": "code",
   "execution_count": 22,
   "metadata": {},
   "outputs": [
    {
     "data": {
      "text/plain": [
       "REGION (DISPLAY)     object\n",
       "COUNTRY (DISPLAY)    object\n",
       "dtype: object"
      ]
     },
     "execution_count": 22,
     "metadata": {},
     "output_type": "execute_result"
    }
   ],
   "source": [
    "region_country.dtypes"
   ]
  },
  {
   "cell_type": "code",
   "execution_count": 23,
   "metadata": {},
   "outputs": [
    {
     "data": {
      "text/plain": [
       "['Europe',\n",
       " 'Western Pacific',\n",
       " 'Eastern Mediterranean',\n",
       " 'South-East Asia',\n",
       " 'Africa',\n",
       " 'Americas']"
      ]
     },
     "execution_count": 23,
     "metadata": {},
     "output_type": "execute_result"
    }
   ],
   "source": [
    "# affichage de la liste des régions\n",
    "region_country['REGION (DISPLAY)'].unique().tolist()"
   ]
  },
  {
   "cell_type": "code",
   "execution_count": 24,
   "metadata": {},
   "outputs": [
    {
     "data": {
      "text/html": [
       "<div>\n",
       "<style scoped>\n",
       "    .dataframe tbody tr th:only-of-type {\n",
       "        vertical-align: middle;\n",
       "    }\n",
       "\n",
       "    .dataframe tbody tr th {\n",
       "        vertical-align: top;\n",
       "    }\n",
       "\n",
       "    .dataframe thead th {\n",
       "        text-align: right;\n",
       "    }\n",
       "</style>\n",
       "<table border=\"1\" class=\"dataframe\">\n",
       "  <thead>\n",
       "    <tr style=\"text-align: right;\">\n",
       "      <th></th>\n",
       "      <th>Region</th>\n",
       "      <th>County</th>\n",
       "    </tr>\n",
       "  </thead>\n",
       "  <tbody>\n",
       "    <tr>\n",
       "      <th>63</th>\n",
       "      <td>Europe</td>\n",
       "      <td>Malta</td>\n",
       "    </tr>\n",
       "    <tr>\n",
       "      <th>185</th>\n",
       "      <td>Africa</td>\n",
       "      <td>Togo</td>\n",
       "    </tr>\n",
       "    <tr>\n",
       "      <th>145</th>\n",
       "      <td>Africa</td>\n",
       "      <td>Guinea-Bissau</td>\n",
       "    </tr>\n",
       "    <tr>\n",
       "      <th>162</th>\n",
       "      <td>Africa</td>\n",
       "      <td>Mozambique</td>\n",
       "    </tr>\n",
       "    <tr>\n",
       "      <th>1</th>\n",
       "      <td>Europe</td>\n",
       "      <td>Andorra</td>\n",
       "    </tr>\n",
       "  </tbody>\n",
       "</table>\n",
       "</div>"
      ],
      "text/plain": [
       "     Region         County\n",
       "63   Europe          Malta\n",
       "185  Africa           Togo\n",
       "145  Africa  Guinea-Bissau\n",
       "162  Africa     Mozambique\n",
       "1    Europe        Andorra"
      ]
     },
     "execution_count": 24,
     "metadata": {},
     "output_type": "execute_result"
    }
   ],
   "source": [
    "# modification des noms de colonnes\n",
    "region_country.rename(columns={'REGION (DISPLAY)': 'Region', 'COUNTRY (DISPLAY)' : 'County'}, inplace=True)\n",
    "region_country.sample(5)"
   ]
  },
  {
   "cell_type": "markdown",
   "metadata": {},
   "source": [
    "### Le fichier 'PoliticalStability.csv'"
   ]
  },
  {
   "cell_type": "code",
   "execution_count": 25,
   "metadata": {},
   "outputs": [
    {
     "data": {
      "text/html": [
       "<div>\n",
       "<style scoped>\n",
       "    .dataframe tbody tr th:only-of-type {\n",
       "        vertical-align: middle;\n",
       "    }\n",
       "\n",
       "    .dataframe tbody tr th {\n",
       "        vertical-align: top;\n",
       "    }\n",
       "\n",
       "    .dataframe thead th {\n",
       "        text-align: right;\n",
       "    }\n",
       "</style>\n",
       "<table border=\"1\" class=\"dataframe\">\n",
       "  <thead>\n",
       "    <tr style=\"text-align: right;\">\n",
       "      <th></th>\n",
       "      <th>Country</th>\n",
       "      <th>Year</th>\n",
       "      <th>Political_Stability</th>\n",
       "      <th>Granularity</th>\n",
       "    </tr>\n",
       "  </thead>\n",
       "  <tbody>\n",
       "    <tr>\n",
       "      <th>0</th>\n",
       "      <td>Afghanistan</td>\n",
       "      <td>2000</td>\n",
       "      <td>-2.44</td>\n",
       "      <td>Total</td>\n",
       "    </tr>\n",
       "    <tr>\n",
       "      <th>1</th>\n",
       "      <td>Afghanistan</td>\n",
       "      <td>2002</td>\n",
       "      <td>-2.04</td>\n",
       "      <td>Total</td>\n",
       "    </tr>\n",
       "    <tr>\n",
       "      <th>2</th>\n",
       "      <td>Afghanistan</td>\n",
       "      <td>2003</td>\n",
       "      <td>-2.20</td>\n",
       "      <td>Total</td>\n",
       "    </tr>\n",
       "    <tr>\n",
       "      <th>3</th>\n",
       "      <td>Afghanistan</td>\n",
       "      <td>2004</td>\n",
       "      <td>-2.30</td>\n",
       "      <td>Total</td>\n",
       "    </tr>\n",
       "    <tr>\n",
       "      <th>4</th>\n",
       "      <td>Afghanistan</td>\n",
       "      <td>2005</td>\n",
       "      <td>-2.07</td>\n",
       "      <td>Total</td>\n",
       "    </tr>\n",
       "  </tbody>\n",
       "</table>\n",
       "</div>"
      ],
      "text/plain": [
       "       Country  Year  Political_Stability Granularity\n",
       "0  Afghanistan  2000                -2.44       Total\n",
       "1  Afghanistan  2002                -2.04       Total\n",
       "2  Afghanistan  2003                -2.20       Total\n",
       "3  Afghanistan  2004                -2.30       Total\n",
       "4  Afghanistan  2005                -2.07       Total"
      ]
     },
     "execution_count": 25,
     "metadata": {},
     "output_type": "execute_result"
    }
   ],
   "source": [
    "political_stability.head(5)"
   ]
  },
  {
   "cell_type": "code",
   "execution_count": 26,
   "metadata": {},
   "outputs": [
    {
     "data": {
      "text/plain": [
       "(3526, 4)"
      ]
     },
     "execution_count": 26,
     "metadata": {},
     "output_type": "execute_result"
    }
   ],
   "source": [
    "political_stability.shape"
   ]
  },
  {
   "cell_type": "code",
   "execution_count": 27,
   "metadata": {},
   "outputs": [
    {
     "data": {
      "text/html": [
       "<div>\n",
       "<style scoped>\n",
       "    .dataframe tbody tr th:only-of-type {\n",
       "        vertical-align: middle;\n",
       "    }\n",
       "\n",
       "    .dataframe tbody tr th {\n",
       "        vertical-align: top;\n",
       "    }\n",
       "\n",
       "    .dataframe thead th {\n",
       "        text-align: right;\n",
       "    }\n",
       "</style>\n",
       "<table border=\"1\" class=\"dataframe\">\n",
       "  <thead>\n",
       "    <tr style=\"text-align: right;\">\n",
       "      <th></th>\n",
       "      <th>Country</th>\n",
       "      <th>Year</th>\n",
       "      <th>Political_Stability</th>\n",
       "      <th>Granularity</th>\n",
       "    </tr>\n",
       "  </thead>\n",
       "  <tbody>\n",
       "    <tr>\n",
       "      <th>count</th>\n",
       "      <td>3526</td>\n",
       "      <td>3526.000000</td>\n",
       "      <td>3526.000000</td>\n",
       "      <td>3526</td>\n",
       "    </tr>\n",
       "    <tr>\n",
       "      <th>unique</th>\n",
       "      <td>200</td>\n",
       "      <td>NaN</td>\n",
       "      <td>NaN</td>\n",
       "      <td>1</td>\n",
       "    </tr>\n",
       "    <tr>\n",
       "      <th>top</th>\n",
       "      <td>Afghanistan</td>\n",
       "      <td>NaN</td>\n",
       "      <td>NaN</td>\n",
       "      <td>Total</td>\n",
       "    </tr>\n",
       "    <tr>\n",
       "      <th>freq</th>\n",
       "      <td>18</td>\n",
       "      <td>NaN</td>\n",
       "      <td>NaN</td>\n",
       "      <td>3526</td>\n",
       "    </tr>\n",
       "    <tr>\n",
       "      <th>mean</th>\n",
       "      <td>NaN</td>\n",
       "      <td>2009.521838</td>\n",
       "      <td>-0.051044</td>\n",
       "      <td>NaN</td>\n",
       "    </tr>\n",
       "    <tr>\n",
       "      <th>std</th>\n",
       "      <td>NaN</td>\n",
       "      <td>5.255833</td>\n",
       "      <td>0.996039</td>\n",
       "      <td>NaN</td>\n",
       "    </tr>\n",
       "    <tr>\n",
       "      <th>min</th>\n",
       "      <td>NaN</td>\n",
       "      <td>2000.000000</td>\n",
       "      <td>-3.310000</td>\n",
       "      <td>NaN</td>\n",
       "    </tr>\n",
       "    <tr>\n",
       "      <th>25%</th>\n",
       "      <td>NaN</td>\n",
       "      <td>2005.000000</td>\n",
       "      <td>-0.710000</td>\n",
       "      <td>NaN</td>\n",
       "    </tr>\n",
       "    <tr>\n",
       "      <th>50%</th>\n",
       "      <td>NaN</td>\n",
       "      <td>2010.000000</td>\n",
       "      <td>0.050000</td>\n",
       "      <td>NaN</td>\n",
       "    </tr>\n",
       "    <tr>\n",
       "      <th>75%</th>\n",
       "      <td>NaN</td>\n",
       "      <td>2014.000000</td>\n",
       "      <td>0.797500</td>\n",
       "      <td>NaN</td>\n",
       "    </tr>\n",
       "    <tr>\n",
       "      <th>max</th>\n",
       "      <td>NaN</td>\n",
       "      <td>2018.000000</td>\n",
       "      <td>1.970000</td>\n",
       "      <td>NaN</td>\n",
       "    </tr>\n",
       "  </tbody>\n",
       "</table>\n",
       "</div>"
      ],
      "text/plain": [
       "            Country         Year  Political_Stability Granularity\n",
       "count          3526  3526.000000          3526.000000        3526\n",
       "unique          200          NaN                  NaN           1\n",
       "top     Afghanistan          NaN                  NaN       Total\n",
       "freq             18          NaN                  NaN        3526\n",
       "mean            NaN  2009.521838            -0.051044         NaN\n",
       "std             NaN     5.255833             0.996039         NaN\n",
       "min             NaN  2000.000000            -3.310000         NaN\n",
       "25%             NaN  2005.000000            -0.710000         NaN\n",
       "50%             NaN  2010.000000             0.050000         NaN\n",
       "75%             NaN  2014.000000             0.797500         NaN\n",
       "max             NaN  2018.000000             1.970000         NaN"
      ]
     },
     "execution_count": 27,
     "metadata": {},
     "output_type": "execute_result"
    }
   ],
   "source": [
    "political_stability.describe(include='all')"
   ]
  },
  {
   "cell_type": "code",
   "execution_count": 28,
   "metadata": {},
   "outputs": [
    {
     "data": {
      "text/plain": [
       "Country                 object\n",
       "Year                     int64\n",
       "Political_Stability    float64\n",
       "Granularity             object\n",
       "dtype: object"
      ]
     },
     "execution_count": 28,
     "metadata": {},
     "output_type": "execute_result"
    }
   ],
   "source": [
    "political_stability.dtypes"
   ]
  },
  {
   "cell_type": "markdown",
   "metadata": {},
   "source": [
    "Dans cette table nous retrouvons des informations sur le pays, l'année et la stabilité politique. \n",
    "\n",
    "Il est intéressant de noter que jusqu'ici, toutes les tables analysées contienent une colonne 'Country', mais aucune n'a le même nombre de pays : 239 pays dans la table 'population', 194 pays dans la table 'region_country', puis 200 pays dans la table 'political stability'. Il serait intéressant de connaitre les pays dont nous n'avons pas les informations, afin d'éviter que cela pose problème lors de l'analyse et lors de la visualisation des données. \n",
    "\n",
    "Concernant la colonne 'Year', nous voyons que les années vont de 2000 à 2018, tout comme la table 'population'.\n",
    "\n",
    "Nous remarquons que la colonne 'Granularity' ne contient qu'une seule variable : 'Total'. Cette colonne n'est donc pas nécessaire et peut être supprimée.\n",
    "\n",
    "Concernant la stabilité politique, les données vont de -3,31 à 1,97. Il s'agit d'un indice. L'indice de stabilité politique mesure la probabilité que le gouvernement en place soit renversé, qu'il y ait des conflits au sein du pays (conflits armés, régionaux, ou encore religieux), que le pays connaisse des tensions à l'international, ou qu'il y ait un risque de terrorisme. Plus cet indice est faible, plus le risque est élevé. À l'inverse, plus l'indice est élevé, et plus le risque sera faible."
   ]
  },
  {
   "cell_type": "code",
   "execution_count": 29,
   "metadata": {},
   "outputs": [
    {
     "data": {
      "text/html": [
       "<div>\n",
       "<style scoped>\n",
       "    .dataframe tbody tr th:only-of-type {\n",
       "        vertical-align: middle;\n",
       "    }\n",
       "\n",
       "    .dataframe tbody tr th {\n",
       "        vertical-align: top;\n",
       "    }\n",
       "\n",
       "    .dataframe thead th {\n",
       "        text-align: right;\n",
       "    }\n",
       "</style>\n",
       "<table border=\"1\" class=\"dataframe\">\n",
       "  <thead>\n",
       "    <tr style=\"text-align: right;\">\n",
       "      <th></th>\n",
       "      <th>Country</th>\n",
       "      <th>Year</th>\n",
       "      <th>Political_Stability</th>\n",
       "      <th>Granularity</th>\n",
       "    </tr>\n",
       "  </thead>\n",
       "  <tbody>\n",
       "    <tr>\n",
       "      <th>1320</th>\n",
       "      <td>Greenland</td>\n",
       "      <td>2016</td>\n",
       "      <td>1.97</td>\n",
       "      <td>Total</td>\n",
       "    </tr>\n",
       "    <tr>\n",
       "      <th>2936</th>\n",
       "      <td>Somalia</td>\n",
       "      <td>2009</td>\n",
       "      <td>-3.31</td>\n",
       "      <td>Total</td>\n",
       "    </tr>\n",
       "  </tbody>\n",
       "</table>\n",
       "</div>"
      ],
      "text/plain": [
       "        Country  Year  Political_Stability Granularity\n",
       "1320  Greenland  2016                 1.97       Total\n",
       "2936    Somalia  2009                -3.31       Total"
      ]
     },
     "execution_count": 29,
     "metadata": {},
     "output_type": "execute_result"
    }
   ],
   "source": [
    "# cherchons après les pays ayant les coefficients les plus élevés et les plus faibles\n",
    "mask = political_stability['Political_Stability']\n",
    "political_stability.loc[(mask == mask.max()) | (mask == mask.min())]"
   ]
  },
  {
   "cell_type": "markdown",
   "metadata": {},
   "source": [
    "On remarque ici que le pays avec l'indice de stabilité politique le plus élevé est le Groenland, et celui avec l'indice de staiblité politique le plus faible est la Somalie."
   ]
  },
  {
   "cell_type": "code",
   "execution_count": 30,
   "metadata": {},
   "outputs": [],
   "source": [
    "# supprimons la colonne 'Granularity'\n",
    "political_stability.drop(columns='Granularity', inplace=True)"
   ]
  },
  {
   "cell_type": "markdown",
   "metadata": {},
   "source": [
    "### Le fichier 'MortalityRateAttributedToWater.csv'"
   ]
  },
  {
   "cell_type": "code",
   "execution_count": 31,
   "metadata": {},
   "outputs": [
    {
     "data": {
      "text/html": [
       "<div>\n",
       "<style scoped>\n",
       "    .dataframe tbody tr th:only-of-type {\n",
       "        vertical-align: middle;\n",
       "    }\n",
       "\n",
       "    .dataframe tbody tr th {\n",
       "        vertical-align: top;\n",
       "    }\n",
       "\n",
       "    .dataframe thead th {\n",
       "        text-align: right;\n",
       "    }\n",
       "</style>\n",
       "<table border=\"1\" class=\"dataframe\">\n",
       "  <thead>\n",
       "    <tr style=\"text-align: right;\">\n",
       "      <th></th>\n",
       "      <th>Year</th>\n",
       "      <th>Country</th>\n",
       "      <th>Granularity</th>\n",
       "      <th>Mortality rate attributed to exposure to unsafe WASH services</th>\n",
       "      <th>WASH deaths</th>\n",
       "    </tr>\n",
       "  </thead>\n",
       "  <tbody>\n",
       "    <tr>\n",
       "      <th>0</th>\n",
       "      <td>2016</td>\n",
       "      <td>Afghanistan</td>\n",
       "      <td>Female</td>\n",
       "      <td>15.31193</td>\n",
       "      <td>NaN</td>\n",
       "    </tr>\n",
       "    <tr>\n",
       "      <th>1</th>\n",
       "      <td>2016</td>\n",
       "      <td>Afghanistan</td>\n",
       "      <td>Male</td>\n",
       "      <td>12.61297</td>\n",
       "      <td>NaN</td>\n",
       "    </tr>\n",
       "    <tr>\n",
       "      <th>2</th>\n",
       "      <td>2016</td>\n",
       "      <td>Afghanistan</td>\n",
       "      <td>Total</td>\n",
       "      <td>13.92067</td>\n",
       "      <td>4824.353</td>\n",
       "    </tr>\n",
       "    <tr>\n",
       "      <th>3</th>\n",
       "      <td>2016</td>\n",
       "      <td>Albania</td>\n",
       "      <td>Female</td>\n",
       "      <td>0.12552</td>\n",
       "      <td>NaN</td>\n",
       "    </tr>\n",
       "    <tr>\n",
       "      <th>4</th>\n",
       "      <td>2016</td>\n",
       "      <td>Albania</td>\n",
       "      <td>Male</td>\n",
       "      <td>0.20650</td>\n",
       "      <td>NaN</td>\n",
       "    </tr>\n",
       "  </tbody>\n",
       "</table>\n",
       "</div>"
      ],
      "text/plain": [
       "   Year      Country Granularity  \\\n",
       "0  2016  Afghanistan      Female   \n",
       "1  2016  Afghanistan        Male   \n",
       "2  2016  Afghanistan       Total   \n",
       "3  2016      Albania      Female   \n",
       "4  2016      Albania        Male   \n",
       "\n",
       "   Mortality rate attributed to exposure to unsafe WASH services  WASH deaths  \n",
       "0                                           15.31193                      NaN  \n",
       "1                                           12.61297                      NaN  \n",
       "2                                           13.92067                 4824.353  \n",
       "3                                            0.12552                      NaN  \n",
       "4                                            0.20650                      NaN  "
      ]
     },
     "execution_count": 31,
     "metadata": {},
     "output_type": "execute_result"
    }
   ],
   "source": [
    "mortality.head(5)"
   ]
  },
  {
   "cell_type": "code",
   "execution_count": 32,
   "metadata": {},
   "outputs": [
    {
     "data": {
      "text/plain": [
       "(549, 5)"
      ]
     },
     "execution_count": 32,
     "metadata": {},
     "output_type": "execute_result"
    }
   ],
   "source": [
    "# affichage des dimensions de la table 'mortality'\n",
    "mortality.shape"
   ]
  },
  {
   "cell_type": "code",
   "execution_count": 33,
   "metadata": {},
   "outputs": [
    {
     "data": {
      "text/html": [
       "<div>\n",
       "<style scoped>\n",
       "    .dataframe tbody tr th:only-of-type {\n",
       "        vertical-align: middle;\n",
       "    }\n",
       "\n",
       "    .dataframe tbody tr th {\n",
       "        vertical-align: top;\n",
       "    }\n",
       "\n",
       "    .dataframe thead th {\n",
       "        text-align: right;\n",
       "    }\n",
       "</style>\n",
       "<table border=\"1\" class=\"dataframe\">\n",
       "  <thead>\n",
       "    <tr style=\"text-align: right;\">\n",
       "      <th></th>\n",
       "      <th>Year</th>\n",
       "      <th>Country</th>\n",
       "      <th>Granularity</th>\n",
       "      <th>Mortality rate attributed to exposure to unsafe WASH services</th>\n",
       "      <th>WASH deaths</th>\n",
       "    </tr>\n",
       "  </thead>\n",
       "  <tbody>\n",
       "    <tr>\n",
       "      <th>count</th>\n",
       "      <td>549.0</td>\n",
       "      <td>549</td>\n",
       "      <td>549</td>\n",
       "      <td>549.000000</td>\n",
       "      <td>183.000000</td>\n",
       "    </tr>\n",
       "    <tr>\n",
       "      <th>unique</th>\n",
       "      <td>NaN</td>\n",
       "      <td>183</td>\n",
       "      <td>3</td>\n",
       "      <td>NaN</td>\n",
       "      <td>NaN</td>\n",
       "    </tr>\n",
       "    <tr>\n",
       "      <th>top</th>\n",
       "      <td>NaN</td>\n",
       "      <td>Afghanistan</td>\n",
       "      <td>Female</td>\n",
       "      <td>NaN</td>\n",
       "      <td>NaN</td>\n",
       "    </tr>\n",
       "    <tr>\n",
       "      <th>freq</th>\n",
       "      <td>NaN</td>\n",
       "      <td>3</td>\n",
       "      <td>183</td>\n",
       "      <td>NaN</td>\n",
       "      <td>NaN</td>\n",
       "    </tr>\n",
       "    <tr>\n",
       "      <th>mean</th>\n",
       "      <td>2016.0</td>\n",
       "      <td>NaN</td>\n",
       "      <td>NaN</td>\n",
       "      <td>12.493876</td>\n",
       "      <td>4756.097706</td>\n",
       "    </tr>\n",
       "    <tr>\n",
       "      <th>std</th>\n",
       "      <td>0.0</td>\n",
       "      <td>NaN</td>\n",
       "      <td>NaN</td>\n",
       "      <td>20.830508</td>\n",
       "      <td>21280.125369</td>\n",
       "    </tr>\n",
       "    <tr>\n",
       "      <th>min</th>\n",
       "      <td>2016.0</td>\n",
       "      <td>NaN</td>\n",
       "      <td>NaN</td>\n",
       "      <td>0.003960</td>\n",
       "      <td>0.082290</td>\n",
       "    </tr>\n",
       "    <tr>\n",
       "      <th>25%</th>\n",
       "      <td>2016.0</td>\n",
       "      <td>NaN</td>\n",
       "      <td>NaN</td>\n",
       "      <td>0.192960</td>\n",
       "      <td>11.163275</td>\n",
       "    </tr>\n",
       "    <tr>\n",
       "      <th>50%</th>\n",
       "      <td>2016.0</td>\n",
       "      <td>NaN</td>\n",
       "      <td>NaN</td>\n",
       "      <td>1.288710</td>\n",
       "      <td>130.983400</td>\n",
       "    </tr>\n",
       "    <tr>\n",
       "      <th>75%</th>\n",
       "      <td>2016.0</td>\n",
       "      <td>NaN</td>\n",
       "      <td>NaN</td>\n",
       "      <td>18.054780</td>\n",
       "      <td>1950.433500</td>\n",
       "    </tr>\n",
       "    <tr>\n",
       "      <th>max</th>\n",
       "      <td>2016.0</td>\n",
       "      <td>NaN</td>\n",
       "      <td>NaN</td>\n",
       "      <td>107.048020</td>\n",
       "      <td>246087.900000</td>\n",
       "    </tr>\n",
       "  </tbody>\n",
       "</table>\n",
       "</div>"
      ],
      "text/plain": [
       "          Year      Country Granularity  \\\n",
       "count    549.0          549         549   \n",
       "unique     NaN          183           3   \n",
       "top        NaN  Afghanistan      Female   \n",
       "freq       NaN            3         183   \n",
       "mean    2016.0          NaN         NaN   \n",
       "std        0.0          NaN         NaN   \n",
       "min     2016.0          NaN         NaN   \n",
       "25%     2016.0          NaN         NaN   \n",
       "50%     2016.0          NaN         NaN   \n",
       "75%     2016.0          NaN         NaN   \n",
       "max     2016.0          NaN         NaN   \n",
       "\n",
       "        Mortality rate attributed to exposure to unsafe WASH services  \\\n",
       "count                                          549.000000               \n",
       "unique                                                NaN               \n",
       "top                                                   NaN               \n",
       "freq                                                  NaN               \n",
       "mean                                            12.493876               \n",
       "std                                             20.830508               \n",
       "min                                              0.003960               \n",
       "25%                                              0.192960               \n",
       "50%                                              1.288710               \n",
       "75%                                             18.054780               \n",
       "max                                            107.048020               \n",
       "\n",
       "          WASH deaths  \n",
       "count      183.000000  \n",
       "unique            NaN  \n",
       "top               NaN  \n",
       "freq              NaN  \n",
       "mean      4756.097706  \n",
       "std      21280.125369  \n",
       "min          0.082290  \n",
       "25%         11.163275  \n",
       "50%        130.983400  \n",
       "75%       1950.433500  \n",
       "max     246087.900000  "
      ]
     },
     "execution_count": 33,
     "metadata": {},
     "output_type": "execute_result"
    }
   ],
   "source": [
    "# affichage des détails de la table 'mortality'\n",
    "mortality.describe(include='all')"
   ]
  },
  {
   "cell_type": "markdown",
   "metadata": {},
   "source": [
    "Ici nous pouvons voir qu'il y a des valeurs manquantes dans la colonne 'WASH deaths'. En effet, dans les autres colonnes nous retrouvons 549 lignes, alors que seules 183 valeurs sont renseignées dans la colonne 'WASH deaths'"
   ]
  },
  {
   "cell_type": "code",
   "execution_count": 34,
   "metadata": {},
   "outputs": [
    {
     "data": {
      "text/plain": [
       "Year                                                               int64\n",
       "Country                                                           object\n",
       "Granularity                                                       object\n",
       "Mortality rate attributed to exposure to unsafe WASH services    float64\n",
       "WASH deaths                                                      float64\n",
       "dtype: object"
      ]
     },
     "execution_count": 34,
     "metadata": {},
     "output_type": "execute_result"
    }
   ],
   "source": [
    "# vérification des types des variables\n",
    "mortality.dtypes"
   ]
  },
  {
   "cell_type": "markdown",
   "metadata": {},
   "source": [
    "Dans cette table, nous avons à disposition l'information sur le pays, (183 pays), sur l'année (uniquement 2016). Nous avons égalment une colnone granularité que nous regarderons plus en détail par la suite. Enfin nous avons un taux de mortalité, qui va de 0,003 à 107,048 ainsi qu'un nombre de décès qui va de 0,082 à 246.087,9. \n",
    "\n",
    "Ces deux derniers chiffres seront intéressant pour notre analyse. \n",
    "\n",
    "Concernant le taux de mortalité, l'unité de mesure n'est pas spécifiée dans le dictionnaire de données, mais nous pouvons nous douter que le taux de mortalité n'est pas indiqué pour cent habitants, car il n'est pas possible d'avoir un taux de mortalité supérieur à 100%. Après vérification sur le site de l'OMS, cet indicateur est donné pour 100.000 habitants. Le taux maximum de 107 représente donc 107 morts pour 100.000 habitants, soit un taux de mortalité de 0,107% du à l'utilisation de services WASH de mauvais qualité. \n",
    "\n",
    "Le nombre de decès peut également parraitre étrange, car le minimum est de 0,0822. Afin de vérifier cela, nous sommes allé vérifier le nombre de WASH deaths en 2016. Le National Institutes of Heath nous indique 829.000 WASH deaths en 2016. Nous allons donc faire la somme de la colonne WASH deaths :"
   ]
  },
  {
   "cell_type": "code",
   "execution_count": 35,
   "metadata": {},
   "outputs": [
    {
     "data": {
      "text/plain": [
       "870365.88011"
      ]
     },
     "execution_count": 35,
     "metadata": {},
     "output_type": "execute_result"
    }
   ],
   "source": [
    "# calcul de la somme des décès pour 2016\n",
    "mortality['WASH deaths'].sum()"
   ]
  },
  {
   "cell_type": "markdown",
   "metadata": {},
   "source": [
    "Nous voyons que nous obtenons un nombre qui se rapproche de celui avancé par le National Institutes of Health. Nous pouvons donc arrondir les nombre de la colonne en question à l'unité."
   ]
  },
  {
   "cell_type": "code",
   "execution_count": 36,
   "metadata": {},
   "outputs": [],
   "source": [
    "# arrondissons le nombre de décès à l'unité\n",
    "mortality['WASH deaths'] = round(mortality['WASH deaths'],0)"
   ]
  },
  {
   "cell_type": "markdown",
   "metadata": {},
   "source": [
    "Vérifions maintenant les différents niveaux de granularité"
   ]
  },
  {
   "cell_type": "code",
   "execution_count": 37,
   "metadata": {},
   "outputs": [
    {
     "data": {
      "text/plain": [
       "['Female', 'Male', 'Total']"
      ]
     },
     "execution_count": 37,
     "metadata": {},
     "output_type": "execute_result"
    }
   ],
   "source": [
    "# affichage des différents niveaux de granularité\n",
    "mortality['Granularity'].unique().tolist()"
   ]
  },
  {
   "cell_type": "markdown",
   "metadata": {},
   "source": [
    "Dans la colonne 'Granularity', nous avons l'information sur le sexe ainsi qu'une valeur 'Total'. \n",
    "Comme nous l'avons fait plus haut, prenons un pays au hasard et vérifions que la somme de 'Male' et 'Female' correspond bien au total."
   ]
  },
  {
   "cell_type": "code",
   "execution_count": 38,
   "metadata": {},
   "outputs": [
    {
     "data": {
      "text/html": [
       "<div>\n",
       "<style scoped>\n",
       "    .dataframe tbody tr th:only-of-type {\n",
       "        vertical-align: middle;\n",
       "    }\n",
       "\n",
       "    .dataframe tbody tr th {\n",
       "        vertical-align: top;\n",
       "    }\n",
       "\n",
       "    .dataframe thead th {\n",
       "        text-align: right;\n",
       "    }\n",
       "</style>\n",
       "<table border=\"1\" class=\"dataframe\">\n",
       "  <thead>\n",
       "    <tr style=\"text-align: right;\">\n",
       "      <th></th>\n",
       "      <th>Year</th>\n",
       "      <th>Country</th>\n",
       "      <th>Granularity</th>\n",
       "      <th>Mortality rate attributed to exposure to unsafe WASH services</th>\n",
       "      <th>WASH deaths</th>\n",
       "    </tr>\n",
       "  </thead>\n",
       "  <tbody>\n",
       "    <tr>\n",
       "      <th>177</th>\n",
       "      <td>2016</td>\n",
       "      <td>France</td>\n",
       "      <td>Female</td>\n",
       "      <td>0.32449</td>\n",
       "      <td>NaN</td>\n",
       "    </tr>\n",
       "    <tr>\n",
       "      <th>178</th>\n",
       "      <td>2016</td>\n",
       "      <td>France</td>\n",
       "      <td>Male</td>\n",
       "      <td>0.20430</td>\n",
       "      <td>NaN</td>\n",
       "    </tr>\n",
       "    <tr>\n",
       "      <th>179</th>\n",
       "      <td>2016</td>\n",
       "      <td>France</td>\n",
       "      <td>Total</td>\n",
       "      <td>0.26542</td>\n",
       "      <td>172.0</td>\n",
       "    </tr>\n",
       "  </tbody>\n",
       "</table>\n",
       "</div>"
      ],
      "text/plain": [
       "     Year Country Granularity  \\\n",
       "177  2016  France      Female   \n",
       "178  2016  France        Male   \n",
       "179  2016  France       Total   \n",
       "\n",
       "     Mortality rate attributed to exposure to unsafe WASH services  \\\n",
       "177                                            0.32449               \n",
       "178                                            0.20430               \n",
       "179                                            0.26542               \n",
       "\n",
       "     WASH deaths  \n",
       "177          NaN  \n",
       "178          NaN  \n",
       "179        172.0  "
      ]
     },
     "execution_count": 38,
     "metadata": {},
     "output_type": "execute_result"
    }
   ],
   "source": [
    "# affichage des données pour la France\n",
    "mortality.loc[mortality['Country']=='France']"
   ]
  },
  {
   "cell_type": "markdown",
   "metadata": {},
   "source": [
    "Nous pouvons remarquer que la colonne 'WASH deaths' n'est renseignée ici que pour la granularité 'Total'. \n",
    "Nous avons vu plus haut que seules 183 valeurs sur les 549 lignes étaient renseignées dans cette colonne. 183 étant le tiers de 549, il est possible que seule la granularité 'Total' contienne le nombre de décès. Vérifions cela : "
   ]
  },
  {
   "cell_type": "code",
   "execution_count": 39,
   "metadata": {},
   "outputs": [
    {
     "data": {
      "text/plain": [
       "False"
      ]
     },
     "execution_count": 39,
     "metadata": {},
     "output_type": "execute_result"
    }
   ],
   "source": [
    "# vérifions qu'il n'y a pas de valeurs nulles pour la catégorie 'Total'\n",
    "mortality.loc[mortality['Granularity'] == 'Total', 'WASH deaths'].isnull().any()\n"
   ]
  },
  {
   "cell_type": "markdown",
   "metadata": {},
   "source": [
    "Cette formule nous renvoie 'False', ce qui signifie que la colonne 'WWASH deaths' ne contient pas de valeur nulle lorsque nous filtrons la granularité sur 'Total'. \n",
    "Nous pouvons essayer de faire l'inverse, en vérifiant si cette même colonne nous renvoie des valeurs non nulles lorsque la granularité est filtrée sur 'Male' ou 'Female'. Normalement le résultat devrait également être 'False'"
   ]
  },
  {
   "cell_type": "code",
   "execution_count": 40,
   "metadata": {},
   "outputs": [
    {
     "name": "stdout",
     "output_type": "stream",
     "text": [
      "Granularity = Male : False\n",
      "Granularity = Female : False\n"
     ]
    }
   ],
   "source": [
    "# vérifions qu'il n'y ait pas de valeurs non-nulles pour les catégories 'Male' et 'Female'\n",
    "print(\"Granularity = Male :\", mortality.loc[mortality['Granularity'] == 'Male', 'WASH deaths'].notnull().any())\n",
    "print(\"Granularity = Female :\",mortality.loc[mortality['Granularity'] == 'Female', 'WASH deaths'].notnull().any())\n"
   ]
  },
  {
   "cell_type": "code",
   "execution_count": 41,
   "metadata": {},
   "outputs": [
    {
     "data": {
      "text/html": [
       "<div>\n",
       "<style scoped>\n",
       "    .dataframe tbody tr th:only-of-type {\n",
       "        vertical-align: middle;\n",
       "    }\n",
       "\n",
       "    .dataframe tbody tr th {\n",
       "        vertical-align: top;\n",
       "    }\n",
       "\n",
       "    .dataframe thead th {\n",
       "        text-align: right;\n",
       "    }\n",
       "</style>\n",
       "<table border=\"1\" class=\"dataframe\">\n",
       "  <thead>\n",
       "    <tr style=\"text-align: right;\">\n",
       "      <th></th>\n",
       "      <th>Year</th>\n",
       "      <th>Country</th>\n",
       "      <th>Granularity</th>\n",
       "      <th>Mortality rate attributed to exposure to unsafe WASH services</th>\n",
       "      <th>WASH deaths</th>\n",
       "    </tr>\n",
       "  </thead>\n",
       "  <tbody>\n",
       "    <tr>\n",
       "      <th>275</th>\n",
       "      <td>2016</td>\n",
       "      <td>Latvia</td>\n",
       "      <td>Total</td>\n",
       "      <td>0.02060</td>\n",
       "      <td>0.0</td>\n",
       "    </tr>\n",
       "    <tr>\n",
       "      <th>164</th>\n",
       "      <td>2016</td>\n",
       "      <td>Estonia</td>\n",
       "      <td>Total</td>\n",
       "      <td>0.00627</td>\n",
       "      <td>0.0</td>\n",
       "    </tr>\n",
       "    <tr>\n",
       "      <th>200</th>\n",
       "      <td>2016</td>\n",
       "      <td>Grenada</td>\n",
       "      <td>Total</td>\n",
       "      <td>0.34283</td>\n",
       "      <td>0.0</td>\n",
       "    </tr>\n",
       "    <tr>\n",
       "      <th>224</th>\n",
       "      <td>2016</td>\n",
       "      <td>Iceland</td>\n",
       "      <td>Total</td>\n",
       "      <td>0.10354</td>\n",
       "      <td>0.0</td>\n",
       "    </tr>\n",
       "    <tr>\n",
       "      <th>71</th>\n",
       "      <td>2016</td>\n",
       "      <td>Brunei Darussalam</td>\n",
       "      <td>Total</td>\n",
       "      <td>0.04520</td>\n",
       "      <td>0.0</td>\n",
       "    </tr>\n",
       "  </tbody>\n",
       "</table>\n",
       "</div>"
      ],
      "text/plain": [
       "     Year            Country Granularity  \\\n",
       "275  2016             Latvia       Total   \n",
       "164  2016            Estonia       Total   \n",
       "200  2016            Grenada       Total   \n",
       "224  2016            Iceland       Total   \n",
       "71   2016  Brunei Darussalam       Total   \n",
       "\n",
       "     Mortality rate attributed to exposure to unsafe WASH services  \\\n",
       "275                                            0.02060               \n",
       "164                                            0.00627               \n",
       "200                                            0.34283               \n",
       "224                                            0.10354               \n",
       "71                                             0.04520               \n",
       "\n",
       "     WASH deaths  \n",
       "275          0.0  \n",
       "164          0.0  \n",
       "200          0.0  \n",
       "224          0.0  \n",
       "71           0.0  "
      ]
     },
     "execution_count": 41,
     "metadata": {},
     "output_type": "execute_result"
    }
   ],
   "source": [
    "# affichage des 5 pays ayany le nombre de décès le plus faible\n",
    "mortality.sort_values('WASH deaths').head(5)"
   ]
  },
  {
   "cell_type": "markdown",
   "metadata": {},
   "source": [
    "### Le fichier 'BasicAndSafelyManagedDrinkingWaterServices.csv'"
   ]
  },
  {
   "cell_type": "code",
   "execution_count": 42,
   "metadata": {},
   "outputs": [
    {
     "data": {
      "text/html": [
       "<div>\n",
       "<style scoped>\n",
       "    .dataframe tbody tr th:only-of-type {\n",
       "        vertical-align: middle;\n",
       "    }\n",
       "\n",
       "    .dataframe tbody tr th {\n",
       "        vertical-align: top;\n",
       "    }\n",
       "\n",
       "    .dataframe thead th {\n",
       "        text-align: right;\n",
       "    }\n",
       "</style>\n",
       "<table border=\"1\" class=\"dataframe\">\n",
       "  <thead>\n",
       "    <tr style=\"text-align: right;\">\n",
       "      <th></th>\n",
       "      <th>Year</th>\n",
       "      <th>Country</th>\n",
       "      <th>Granularity</th>\n",
       "      <th>Population using at least basic drinking-water services (%)</th>\n",
       "      <th>Population using safely managed drinking-water services (%)</th>\n",
       "    </tr>\n",
       "  </thead>\n",
       "  <tbody>\n",
       "    <tr>\n",
       "      <th>0</th>\n",
       "      <td>2000</td>\n",
       "      <td>Afghanistan</td>\n",
       "      <td>Rural</td>\n",
       "      <td>21.61913</td>\n",
       "      <td>NaN</td>\n",
       "    </tr>\n",
       "    <tr>\n",
       "      <th>1</th>\n",
       "      <td>2000</td>\n",
       "      <td>Afghanistan</td>\n",
       "      <td>Total</td>\n",
       "      <td>27.77190</td>\n",
       "      <td>NaN</td>\n",
       "    </tr>\n",
       "    <tr>\n",
       "      <th>2</th>\n",
       "      <td>2000</td>\n",
       "      <td>Afghanistan</td>\n",
       "      <td>Urban</td>\n",
       "      <td>49.48745</td>\n",
       "      <td>NaN</td>\n",
       "    </tr>\n",
       "    <tr>\n",
       "      <th>3</th>\n",
       "      <td>2000</td>\n",
       "      <td>Albania</td>\n",
       "      <td>Rural</td>\n",
       "      <td>81.78472</td>\n",
       "      <td>NaN</td>\n",
       "    </tr>\n",
       "    <tr>\n",
       "      <th>4</th>\n",
       "      <td>2000</td>\n",
       "      <td>Albania</td>\n",
       "      <td>Total</td>\n",
       "      <td>87.86662</td>\n",
       "      <td>49.29324</td>\n",
       "    </tr>\n",
       "  </tbody>\n",
       "</table>\n",
       "</div>"
      ],
      "text/plain": [
       "   Year      Country Granularity  \\\n",
       "0  2000  Afghanistan       Rural   \n",
       "1  2000  Afghanistan       Total   \n",
       "2  2000  Afghanistan       Urban   \n",
       "3  2000      Albania       Rural   \n",
       "4  2000      Albania       Total   \n",
       "\n",
       "   Population using at least basic drinking-water services (%)  \\\n",
       "0                                           21.61913             \n",
       "1                                           27.77190             \n",
       "2                                           49.48745             \n",
       "3                                           81.78472             \n",
       "4                                           87.86662             \n",
       "\n",
       "   Population using safely managed drinking-water services (%)  \n",
       "0                                                NaN            \n",
       "1                                                NaN            \n",
       "2                                                NaN            \n",
       "3                                                NaN            \n",
       "4                                           49.29324            "
      ]
     },
     "execution_count": 42,
     "metadata": {},
     "output_type": "execute_result"
    }
   ],
   "source": [
    "drinking_water_service.head(5)"
   ]
  },
  {
   "cell_type": "code",
   "execution_count": 43,
   "metadata": {},
   "outputs": [
    {
     "data": {
      "text/plain": [
       "(10476, 5)"
      ]
     },
     "execution_count": 43,
     "metadata": {},
     "output_type": "execute_result"
    }
   ],
   "source": [
    "# affichage des dimensions de la table 'drinking_water_service'\n",
    "drinking_water_service.shape"
   ]
  },
  {
   "cell_type": "code",
   "execution_count": 44,
   "metadata": {},
   "outputs": [
    {
     "data": {
      "text/html": [
       "<div>\n",
       "<style scoped>\n",
       "    .dataframe tbody tr th:only-of-type {\n",
       "        vertical-align: middle;\n",
       "    }\n",
       "\n",
       "    .dataframe tbody tr th {\n",
       "        vertical-align: top;\n",
       "    }\n",
       "\n",
       "    .dataframe thead th {\n",
       "        text-align: right;\n",
       "    }\n",
       "</style>\n",
       "<table border=\"1\" class=\"dataframe\">\n",
       "  <thead>\n",
       "    <tr style=\"text-align: right;\">\n",
       "      <th></th>\n",
       "      <th>Year</th>\n",
       "      <th>Country</th>\n",
       "      <th>Granularity</th>\n",
       "      <th>Population using at least basic drinking-water services (%)</th>\n",
       "      <th>Population using safely managed drinking-water services (%)</th>\n",
       "    </tr>\n",
       "  </thead>\n",
       "  <tbody>\n",
       "    <tr>\n",
       "      <th>count</th>\n",
       "      <td>10476.000000</td>\n",
       "      <td>10476</td>\n",
       "      <td>10476</td>\n",
       "      <td>9415.000000</td>\n",
       "      <td>3286.000000</td>\n",
       "    </tr>\n",
       "    <tr>\n",
       "      <th>unique</th>\n",
       "      <td>NaN</td>\n",
       "      <td>194</td>\n",
       "      <td>3</td>\n",
       "      <td>NaN</td>\n",
       "      <td>NaN</td>\n",
       "    </tr>\n",
       "    <tr>\n",
       "      <th>top</th>\n",
       "      <td>NaN</td>\n",
       "      <td>Afghanistan</td>\n",
       "      <td>Rural</td>\n",
       "      <td>NaN</td>\n",
       "      <td>NaN</td>\n",
       "    </tr>\n",
       "    <tr>\n",
       "      <th>freq</th>\n",
       "      <td>NaN</td>\n",
       "      <td>54</td>\n",
       "      <td>3492</td>\n",
       "      <td>NaN</td>\n",
       "      <td>NaN</td>\n",
       "    </tr>\n",
       "    <tr>\n",
       "      <th>mean</th>\n",
       "      <td>2008.500000</td>\n",
       "      <td>NaN</td>\n",
       "      <td>NaN</td>\n",
       "      <td>83.962120</td>\n",
       "      <td>66.070856</td>\n",
       "    </tr>\n",
       "    <tr>\n",
       "      <th>std</th>\n",
       "      <td>5.188375</td>\n",
       "      <td>NaN</td>\n",
       "      <td>NaN</td>\n",
       "      <td>19.968269</td>\n",
       "      <td>30.383942</td>\n",
       "    </tr>\n",
       "    <tr>\n",
       "      <th>min</th>\n",
       "      <td>2000.000000</td>\n",
       "      <td>NaN</td>\n",
       "      <td>NaN</td>\n",
       "      <td>4.082620</td>\n",
       "      <td>0.000000</td>\n",
       "    </tr>\n",
       "    <tr>\n",
       "      <th>25%</th>\n",
       "      <td>2004.000000</td>\n",
       "      <td>NaN</td>\n",
       "      <td>NaN</td>\n",
       "      <td>75.928395</td>\n",
       "      <td>41.895583</td>\n",
       "    </tr>\n",
       "    <tr>\n",
       "      <th>50%</th>\n",
       "      <td>2008.500000</td>\n",
       "      <td>NaN</td>\n",
       "      <td>NaN</td>\n",
       "      <td>93.115400</td>\n",
       "      <td>73.966655</td>\n",
       "    </tr>\n",
       "    <tr>\n",
       "      <th>75%</th>\n",
       "      <td>2013.000000</td>\n",
       "      <td>NaN</td>\n",
       "      <td>NaN</td>\n",
       "      <td>98.954240</td>\n",
       "      <td>94.776640</td>\n",
       "    </tr>\n",
       "    <tr>\n",
       "      <th>max</th>\n",
       "      <td>2017.000000</td>\n",
       "      <td>NaN</td>\n",
       "      <td>NaN</td>\n",
       "      <td>100.000010</td>\n",
       "      <td>100.000000</td>\n",
       "    </tr>\n",
       "  </tbody>\n",
       "</table>\n",
       "</div>"
      ],
      "text/plain": [
       "                Year      Country Granularity  \\\n",
       "count   10476.000000        10476       10476   \n",
       "unique           NaN          194           3   \n",
       "top              NaN  Afghanistan       Rural   \n",
       "freq             NaN           54        3492   \n",
       "mean     2008.500000          NaN         NaN   \n",
       "std         5.188375          NaN         NaN   \n",
       "min      2000.000000          NaN         NaN   \n",
       "25%      2004.000000          NaN         NaN   \n",
       "50%      2008.500000          NaN         NaN   \n",
       "75%      2013.000000          NaN         NaN   \n",
       "max      2017.000000          NaN         NaN   \n",
       "\n",
       "        Population using at least basic drinking-water services (%)  \\\n",
       "count                                         9415.000000             \n",
       "unique                                                NaN             \n",
       "top                                                   NaN             \n",
       "freq                                                  NaN             \n",
       "mean                                            83.962120             \n",
       "std                                             19.968269             \n",
       "min                                              4.082620             \n",
       "25%                                             75.928395             \n",
       "50%                                             93.115400             \n",
       "75%                                             98.954240             \n",
       "max                                            100.000010             \n",
       "\n",
       "        Population using safely managed drinking-water services (%)  \n",
       "count                                         3286.000000            \n",
       "unique                                                NaN            \n",
       "top                                                   NaN            \n",
       "freq                                                  NaN            \n",
       "mean                                            66.070856            \n",
       "std                                             30.383942            \n",
       "min                                              0.000000            \n",
       "25%                                             41.895583            \n",
       "50%                                             73.966655            \n",
       "75%                                             94.776640            \n",
       "max                                            100.000000            "
      ]
     },
     "execution_count": 44,
     "metadata": {},
     "output_type": "execute_result"
    }
   ],
   "source": [
    "# affichage du détail de la table 'drinking_water_service'\n",
    "drinking_water_service.describe(include='all')"
   ]
  },
  {
   "cell_type": "markdown",
   "metadata": {},
   "source": [
    "Dans cette table nous avons une colonne qui nous renseigne l'année (de 2000 à 2017), un autre qui nous renseigne le pays (194 pays différents, dont 54 occurences de 'Afghanistan'), une colonne de granularité avec 3 niveaux de granularité différents que nous irons voir plus en détail par la suite. \n",
    "\n",
    "Nous avons également deux colonne qui contiennent un pourcentage. \n",
    "- Le premier est le taux d'accès aux services 'basic' ou supérieur (allant de 4% à 100%).\n",
    "- Le second est le taux d'accès aux services 'safely managed' (allant de 0% à 100%). \n",
    "\n",
    "Ces deux niveaux de services font partie des 5 niveaux définis par le WASH system. \n",
    "Les 3 premiers niveaux étant : \n",
    "- eaux de surface, \n",
    "- services d'eaux non améliorées, \n",
    "- services d'eaux limité. \n",
    "\n",
    "Nous parlons de niveau de **service de base** (ou 'basic drniking-water service') lorsque l'eau provient d'une source améliorée située dans un rayon de 30 minutes de trajet aller/retour par rapport au domicile. \n",
    "\n",
    "Nous parlons de niveau de **service géré en toute sécurité** (ou 'safely managed drinking-water services') lorsque l'eau provient d'une source améliorée, disponible en cas de besoin et exempte de toute contamination d'origine fécale ou chimique.\n",
    "\n",
    "Au niveaux des valeurs manquantes, nous voyons qu'il n'y a pas de données manquantes dans les colonnes 'Year', 'Country' et 'Granularity'. Cependant on voit qu'il n'y a pas le même nombre de données dans les deux dernières colonnes. Nous compterons par la suite le nombre de valeurs manquantes."
   ]
  },
  {
   "cell_type": "code",
   "execution_count": 45,
   "metadata": {},
   "outputs": [
    {
     "data": {
      "text/plain": [
       "Year                                                             int64\n",
       "Country                                                         object\n",
       "Granularity                                                     object\n",
       "Population using at least basic drinking-water services (%)    float64\n",
       "Population using safely managed drinking-water services (%)    float64\n",
       "dtype: object"
      ]
     },
     "execution_count": 45,
     "metadata": {},
     "output_type": "execute_result"
    }
   ],
   "source": [
    "# vérification des types des variables\n",
    "drinking_water_service.dtypes"
   ]
  },
  {
   "cell_type": "code",
   "execution_count": 46,
   "metadata": {},
   "outputs": [
    {
     "data": {
      "text/plain": [
       "['Rural', 'Total', 'Urban']"
      ]
     },
     "execution_count": 46,
     "metadata": {},
     "output_type": "execute_result"
    }
   ],
   "source": [
    "# affichage des différents nievaux de granularité\n",
    "drinking_water_service['Granularity'].unique().tolist()"
   ]
  },
  {
   "cell_type": "markdown",
   "metadata": {},
   "source": [
    "Ici, les trois niveaux de granularité sont les suivants : \n",
    "- zone rurale\n",
    "- zone urbaine\n",
    "- total"
   ]
  },
  {
   "cell_type": "markdown",
   "metadata": {},
   "source": [
    "Afin de faciliter la lecture, nous pouvons arrondir les pourcentages à deux chiffres après la virgule"
   ]
  },
  {
   "cell_type": "code",
   "execution_count": 47,
   "metadata": {},
   "outputs": [],
   "source": [
    "drinking_water_service['Population using at least basic drinking-water services (%)'] = round(\n",
    "    drinking_water_service['Population using at least basic drinking-water services (%)'],2)\n",
    "drinking_water_service['Population using safely managed drinking-water services (%)'] = round(\n",
    "    drinking_water_service['Population using safely managed drinking-water services (%)'], 2)"
   ]
  },
  {
   "cell_type": "markdown",
   "metadata": {},
   "source": [
    "Regardons maintenant les valeurs nulles dans les deux dernières colonnes"
   ]
  },
  {
   "cell_type": "code",
   "execution_count": 48,
   "metadata": {},
   "outputs": [
    {
     "data": {
      "text/plain": [
       "Year                                                              0\n",
       "Country                                                           0\n",
       "Granularity                                                       0\n",
       "Population using at least basic drinking-water services (%)    1061\n",
       "Population using safely managed drinking-water services (%)    7190\n",
       "dtype: int64"
      ]
     },
     "execution_count": 48,
     "metadata": {},
     "output_type": "execute_result"
    }
   ],
   "source": [
    "drinking_water_service.isnull().sum()"
   ]
  },
  {
   "cell_type": "code",
   "execution_count": 49,
   "metadata": {},
   "outputs": [
    {
     "data": {
      "text/plain": [
       "Year                                                           0.000000\n",
       "Country                                                        0.000000\n",
       "Granularity                                                    0.000000\n",
       "Population using at least basic drinking-water services (%)    0.101279\n",
       "Population using safely managed drinking-water services (%)    0.686331\n",
       "dtype: float64"
      ]
     },
     "execution_count": 49,
     "metadata": {},
     "output_type": "execute_result"
    }
   ],
   "source": [
    "drinking_water_service.isnull().mean()"
   ]
  },
  {
   "cell_type": "markdown",
   "metadata": {},
   "source": [
    "Concernant les valeurs nulles :\n",
    "- la colonne 'basic' contient 1.061 valeurs nulles, ce qui correspond à 10% des valeurs\n",
    "- la colonne 'safely managed' contient 7.190 valeurs nulles, ce qui correspond à 68% des valeurs\n",
    "\n",
    "La question est de savoir pourquoi on retrouve ces valeurs nulles alors qu certains pays contienent des valeurs à 0,00."
   ]
  },
  {
   "cell_type": "markdown",
   "metadata": {},
   "source": [
    "### Jointure"
   ]
  },
  {
   "cell_type": "code",
   "execution_count": null,
   "metadata": {},
   "outputs": [],
   "source": []
  },
  {
   "cell_type": "markdown",
   "metadata": {},
   "source": [
    "### Export des fichiers d'analyse html"
   ]
  },
  {
   "cell_type": "code",
   "execution_count": 50,
   "metadata": {},
   "outputs": [
    {
     "name": "stderr",
     "output_type": "stream",
     "text": [
      "Summarize dataset:  40%|████      | 6/15 [00:03<00:09,  1.10s/it, scatter Year, Year]          "
     ]
    },
    {
     "name": "stderr",
     "output_type": "stream",
     "text": [
      "Summarize dataset: 100%|██████████| 17/17 [00:04<00:00,  3.41it/s, Completed]                     \n",
      "Generate report structure: 100%|██████████| 1/1 [00:02<00:00,  2.55s/it]\n",
      "Render HTML: 100%|██████████| 1/1 [00:00<00:00,  1.35it/s]\n",
      "Export report to file: 100%|██████████| 1/1 [00:00<00:00, 462.03it/s]\n"
     ]
    }
   ],
   "source": [
    "ProfileReport(population).to_file(output_file='population.html')"
   ]
  },
  {
   "cell_type": "code",
   "execution_count": 51,
   "metadata": {},
   "outputs": [
    {
     "name": "stderr",
     "output_type": "stream",
     "text": [
      "Summarize dataset: 100%|██████████| 11/11 [00:00<00:00, 21.59it/s, Completed]               \n",
      "Generate report structure: 100%|██████████| 1/1 [00:00<00:00,  1.57it/s]\n",
      "Render HTML: 100%|██████████| 1/1 [00:00<00:00,  7.61it/s]\n",
      "Export report to file: 100%|██████████| 1/1 [00:00<00:00, 273.53it/s]\n",
      "Summarize dataset: 100%|██████████| 16/16 [00:01<00:00, 14.83it/s, Completed]                                      \n",
      "Generate report structure: 100%|██████████| 1/1 [00:01<00:00,  1.62s/it]\n",
      "Render HTML: 100%|██████████| 1/1 [00:00<00:00,  3.99it/s]\n",
      "Export report to file: 100%|██████████| 1/1 [00:00<00:00, 566.57it/s]\n",
      "Summarize dataset: 100%|██████████| 18/18 [00:01<00:00, 15.18it/s, Completed]                                                                                                                          \n",
      "Generate report structure: 100%|██████████| 1/1 [00:02<00:00,  2.15s/it]\n",
      "Render HTML: 100%|██████████| 1/1 [00:00<00:00,  2.75it/s]\n",
      "Export report to file: 100%|██████████| 1/1 [00:00<00:00, 595.87it/s]\n",
      "Summarize dataset: 100%|██████████| 24/24 [00:02<00:00, 10.35it/s, Completed]                                                                                                                       \n",
      "Generate report structure: 100%|██████████| 1/1 [00:02<00:00,  2.01s/it]\n",
      "Render HTML: 100%|██████████| 1/1 [00:00<00:00,  1.90it/s]\n",
      "Export report to file: 100%|██████████| 1/1 [00:00<00:00, 313.41it/s]\n"
     ]
    }
   ],
   "source": [
    "ProfileReport(region_country).to_file(output_file='region_country.html')\n",
    "ProfileReport(political_stability).to_file(\n",
    "    output_file='political_stability.html')\n",
    "ProfileReport(mortality).to_file(output_file='mortality.html')\n",
    "ProfileReport(drinking_water_service).to_file(\n",
    "    output_file='drinking_water_service.html')\n"
   ]
  },
  {
   "cell_type": "markdown",
   "metadata": {},
   "source": [
    "### Export des fichiers csv à utiliser pour la visualisation"
   ]
  },
  {
   "cell_type": "code",
   "execution_count": 54,
   "metadata": {},
   "outputs": [],
   "source": [
    "population.to_csv('population.csv')\n",
    "region_country.to_csv('region_country.csv')\n",
    "political_stability.to_csv('political_stability.csv')\n",
    "mortality.to_csv('mortality.csv')\n",
    "drinking_water_service.to_csv('drinking_water_service.csv')"
   ]
  },
  {
   "cell_type": "code",
   "execution_count": null,
   "metadata": {},
   "outputs": [],
   "source": []
  },
  {
   "cell_type": "markdown",
   "metadata": {},
   "source": []
  }
 ],
 "metadata": {
  "kernelspec": {
   "display_name": "env",
   "language": "python",
   "name": "python3"
  },
  "language_info": {
   "codemirror_mode": {
    "name": "ipython",
    "version": 3
   },
   "file_extension": ".py",
   "mimetype": "text/x-python",
   "name": "python",
   "nbconvert_exporter": "python",
   "pygments_lexer": "ipython3",
   "version": "3.10.5"
  },
  "orig_nbformat": 4
 },
 "nbformat": 4,
 "nbformat_minor": 2
}
